{
 "cells": [
  {
   "cell_type": "markdown",
   "metadata": {},
   "source": [
    "### Load the runner for the FreeSolv problem"
   ]
  },
  {
   "cell_type": "code",
   "execution_count": null,
   "metadata": {},
   "outputs": [],
   "source": [
    "from partial_kgfn.experiments.freesolv3_runner import main as freesolv3_runner"
   ]
  },
  {
   "cell_type": "markdown",
   "metadata": {},
   "source": [
    "### Run a single trial for the FreeSolv problem"
   ]
  },
  {
   "cell_type": "code",
   "execution_count": null,
   "metadata": {},
   "outputs": [],
   "source": [
    "freesolv3_runner(\n",
    "    trial=10,\n",
    "    algo='fast_pKGFN',  # options: \"EI\", \"KG\", \"Random\", \"EIFN\", \"KGFN\", \"TSFN\", \"pKGFN\", \"fast_pKGFN\"\n",
    "    costs='1_9',\n",
    "    budget=150,\n",
    "    impose_assump=False, #true or false\n",
    ")"
   ]
  },
  {
   "cell_type": "code",
   "execution_count": null,
   "metadata": {},
   "outputs": [],
   "source": [
    "from partial_kgfn.test_functions.GPs1 import GPs1\n",
    "problem = GPs1(node_costs='1_1')"
   ]
  },
  {
   "cell_type": "code",
   "execution_count": null,
   "metadata": {},
   "outputs": [],
   "source": [
    "import torch"
   ]
  },
  {
   "cell_type": "code",
   "execution_count": null,
   "metadata": {},
   "outputs": [],
   "source": [
    "x_input = torch.linspace(-1,1,100)"
   ]
  },
  {
   "cell_type": "code",
   "execution_count": null,
   "metadata": {},
   "outputs": [],
   "source": [
    "xx_input=x_input.unsqueeze(-1).to(torch.double)"
   ]
  },
  {
   "cell_type": "code",
   "execution_count": null,
   "metadata": {},
   "outputs": [],
   "source": [
    "problem.evaluate(xx_input,idx=[0]).min(),problem.evaluate(xx_input,idx=[0]).max()"
   ]
  }
 ],
 "metadata": {
  "kernelspec": {
   "display_name": "pKGFN",
   "language": "python",
   "name": "python3"
  },
  "language_info": {
   "codemirror_mode": {
    "name": "ipython",
    "version": 3
   },
   "file_extension": ".py",
   "mimetype": "text/x-python",
   "name": "python",
   "nbconvert_exporter": "python",
   "pygments_lexer": "ipython3",
   "version": "3.9.21"
  }
 },
 "nbformat": 4,
 "nbformat_minor": 2
}
