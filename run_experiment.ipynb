{
 "cells": [
  {
   "cell_type": "markdown",
   "metadata": {},
   "source": [
    "### Load the runner for the FreeSolv problem"
   ]
  },
  {
   "cell_type": "code",
   "execution_count": 5,
   "metadata": {},
   "outputs": [],
   "source": [
    "from partial_kgfn.experiments.freesolv3_runner import main as freesolv3_runner_"
   ]
  },
  {
   "cell_type": "markdown",
   "metadata": {},
   "source": [
    "### Run a single trial for the FreeSolv problem"
   ]
  },
  {
   "cell_type": "code",
   "execution_count": 6,
   "metadata": {},
   "outputs": [
    {
     "name": "stderr",
     "output_type": "stream",
     "text": [
      "[INFO 03-28 22:00:32] botorch: ============================Start New Experiment=================================\n",
      "Experiment: freesolvN3_1_49\n",
      "Algorithm: EI\n",
      "Trial: 1\n",
      "[INFO 03-28 22:00:32] botorch: Consider noisy observations: SingleTaskGP is used.\n",
      "[INFO 03-28 22:00:32] botorch: Consider noisy observations: SingleTaskGP is used.\n",
      "[INFO 03-28 22:00:32] botorch: Consider noisy observations: SingleTaskGP is used.\n",
      "[INFO 03-28 22:00:32] botorch: Initial best observed objective value: 10.9144\n",
      "[INFO 03-28 22:00:32] botorch: Initial best posterior mean for the objective: 10.358657 at tensor([[0.6917, 0.8558, 0.5076]])(Exact obj evaluation 8.734840)\n",
      "[INFO 03-28 22:00:32] botorch: Remaining budget: 150\n",
      "[INFO 03-28 22:00:32] botorch: Optimizing the acquisition takes 0.0593 seconds\n",
      "[INFO 03-28 22:00:32] botorch: Evaluate the full network at input tensor([[0.5858, 0.8807, 0.3013]]) (acqf val: 0.7427): tensor([[9.7877, 8.7311]])\n",
      "[INFO 03-28 22:00:32] botorch: Consider noisy observations: SingleTaskGP is used.\n",
      "[INFO 03-28 22:00:32] botorch: Best observed objective value: 10.9144\n"
     ]
    },
    {
     "name": "stdout",
     "output_type": "stream",
     "text": [
      "==========================================================================\n"
     ]
    },
    {
     "name": "stderr",
     "output_type": "stream",
     "text": [
      "[INFO 03-28 22:00:34] botorch: Best posterior mean for the objective: 10.936839 at tensor([[0.7134, 0.8578, 0.5439]])(Exact obj evaluation 8.662515)\n",
      "[INFO 03-28 22:00:34] botorch: total cost used: 50\n",
      "[INFO 03-28 22:00:34] botorch: ==========================================================================\n",
      "[INFO 03-28 22:00:34] botorch: Remaining budget: 100\n",
      "[INFO 03-28 22:00:34] botorch: Optimizing the acquisition takes 0.0462 seconds\n",
      "[INFO 03-28 22:00:34] botorch: Evaluate the full network at input tensor([[0.9585, 0.8036, 0.5041]]) (acqf val: 0.4928): tensor([[7.9081, 6.3505]])\n",
      "[INFO 03-28 22:00:34] botorch: Consider noisy observations: SingleTaskGP is used.\n",
      "[INFO 03-28 22:00:34] botorch: Best observed objective value: 10.9144\n"
     ]
    },
    {
     "name": "stdout",
     "output_type": "stream",
     "text": [
      "==========================================================================\n"
     ]
    },
    {
     "name": "stderr",
     "output_type": "stream",
     "text": [
      "[INFO 03-28 22:00:34] botorch: Best posterior mean for the objective: 10.960653 at tensor([[0.7090, 0.8586, 0.5453]])(Exact obj evaluation 8.662443)\n",
      "[INFO 03-28 22:00:34] botorch: total cost used: 100\n",
      "[INFO 03-28 22:00:34] botorch: ==========================================================================\n",
      "[INFO 03-28 22:00:34] botorch: Remaining budget: 50\n",
      "[INFO 03-28 22:00:34] botorch: Optimizing the acquisition takes 0.0888 seconds\n",
      "[INFO 03-28 22:00:34] botorch: Evaluate the full network at input tensor([[0.4736, 0.9099, 0.6301]]) (acqf val: 0.4249): tensor([[15.7054, 14.2117]])\n",
      "[INFO 03-28 22:00:34] botorch: Consider noisy observations: SingleTaskGP is used.\n",
      "[INFO 03-28 22:00:34] botorch: Best observed objective value: 14.2117\n"
     ]
    },
    {
     "name": "stdout",
     "output_type": "stream",
     "text": [
      "==========================================================================\n"
     ]
    },
    {
     "name": "stderr",
     "output_type": "stream",
     "text": [
      "[INFO 03-28 22:00:36] botorch: Best posterior mean for the objective: 14.211455 at tensor([[0.4736, 0.9099, 0.6301]])(Exact obj evaluation 13.663799)\n",
      "[INFO 03-28 22:00:36] botorch: total cost used: 150\n",
      "[INFO 03-28 22:00:36] botorch: ==========================================================================\n"
     ]
    },
    {
     "name": "stdout",
     "output_type": "stream",
     "text": [
      "==========================================================================\n"
     ]
    }
   ],
   "source": [
    "freesolv3_runner_(\n",
    "    trial=1,\n",
    "    algo='EI',  # options: \"EI\", \"KG\", \"Random\", \"EIFN\", \"KGFN\", \"TSFN\", \"pKGFN\"\n",
    "    costs='1_49',\n",
    "    budget=150,\n",
    ")"
   ]
  }
 ],
 "metadata": {
  "kernelspec": {
   "display_name": "Python 3",
   "language": "python",
   "name": "python3"
  },
  "language_info": {
   "codemirror_mode": {
    "name": "ipython",
    "version": 3
   },
   "file_extension": ".py",
   "mimetype": "text/x-python",
   "name": "python",
   "nbconvert_exporter": "python",
   "pygments_lexer": "ipython3",
   "version": "3.9.6"
  }
 },
 "nbformat": 4,
 "nbformat_minor": 2
}
