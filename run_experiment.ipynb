{
 "cells": [
  {
   "cell_type": "markdown",
   "metadata": {},
   "source": [
    "### Load the runner for the FreeSolv problem"
   ]
  },
  {
   "cell_type": "code",
   "execution_count": null,
   "metadata": {},
   "outputs": [
    {
     "name": "stderr",
     "output_type": "stream",
     "text": [
      "/opt/anaconda3/envs/pKGFN/lib/python3.9/site-packages/botorch/models/utils/assorted.py:193: UserWarning: std(): degrees of freedom is <= 0. Correction should be strictly less than the reduction factor (input numel divided by output numel). (Triggered internally at /Users/runner/work/pytorch/pytorch/pytorch/aten/src/ATen/native/ReduceOps.cpp:1831.)\n",
      "  Ymean, Ystd = torch.mean(Y, dim=-2), torch.std(Y, dim=-2)\n",
      "/opt/anaconda3/envs/pKGFN/lib/python3.9/site-packages/botorch/models/utils/assorted.py:193: UserWarning: std(): degrees of freedom is <= 0. Correction should be strictly less than the reduction factor (input numel divided by output numel). (Triggered internally at /Users/runner/work/pytorch/pytorch/pytorch/aten/src/ATen/native/ReduceOps.cpp:1831.)\n",
      "  Ymean, Ystd = torch.mean(Y, dim=-2), torch.std(Y, dim=-2)\n",
      "/opt/anaconda3/envs/pKGFN/lib/python3.9/site-packages/botorch/models/utils/assorted.py:193: UserWarning: std(): degrees of freedom is <= 0. Correction should be strictly less than the reduction factor (input numel divided by output numel). (Triggered internally at /Users/runner/work/pytorch/pytorch/pytorch/aten/src/ATen/native/ReduceOps.cpp:1831.)\n",
      "  Ymean, Ystd = torch.mean(Y, dim=-2), torch.std(Y, dim=-2)\n"
     ]
    }
   ],
   "source": [
    "from partial_kgfn.experiments.GPs2_runner import main as GPs2_runner_"
   ]
  },
  {
   "cell_type": "markdown",
   "metadata": {},
   "source": [
    "### Run a single trial for the FreeSolv problem"
   ]
  },
  {
   "cell_type": "code",
   "execution_count": null,
   "metadata": {},
   "outputs": [
    {
     "name": "stderr",
     "output_type": "stream",
     "text": [
      "[INFO 04-02 19:34:56] botorch: ============================Start New Experiment=================================\n",
      "Experiment: GPs1_1_49\n",
      "Algorithm: EI\n",
      "Trial: 10\n",
      "[INFO 04-02 19:34:57] botorch: Generated candidate batch 1 of 1.\n",
      "[INFO 04-02 19:34:57] botorch: Initial best posterior mean for the objective: -0.920661 at tensor([[0.2241]], dtype=torch.float32)(Exact obj evaluation -0.927854)\n",
      "[INFO 04-02 19:34:57] botorch: Remaining budget: 150\n",
      "[INFO 04-02 19:34:57] botorch: Generated candidate batch 1 of 1.\n",
      "[INFO 04-02 19:34:57] botorch: Optimizing the acquisition takes 0.0247 seconds\n",
      "[INFO 04-02 19:34:57] botorch: Evaluate the full network at input tensor([[0.0706]]) (acqf val: 0.0243): tensor([[1.3598, 0.1650]])\n"
     ]
    },
    {
     "name": "stdout",
     "output_type": "stream",
     "text": [
      "==========================================================================\n"
     ]
    },
    {
     "name": "stderr",
     "output_type": "stream",
     "text": [
      "[INFO 04-02 19:34:57] botorch: Generated candidate batch 1 of 1.\n",
      "[INFO 04-02 19:34:57] botorch: Best posterior mean for the objective: 0.173203 at tensor([[0.0584]], dtype=torch.float32)(Exact obj evaluation 0.195179)\n",
      "[INFO 04-02 19:34:57] botorch: total cost used: 50\n",
      "[INFO 04-02 19:34:57] botorch: ==========================================================================\n",
      "[INFO 04-02 19:34:57] botorch: Remaining budget: 100\n",
      "[INFO 04-02 19:34:57] botorch: Generated candidate batch 1 of 1.\n",
      "[INFO 04-02 19:34:57] botorch: Optimizing the acquisition takes 0.0941 seconds\n",
      "[INFO 04-02 19:34:57] botorch: Evaluate the full network at input tensor([[-0.0284]]) (acqf val: 0.1799): tensor([[1.3861, 0.2499]])\n"
     ]
    },
    {
     "name": "stdout",
     "output_type": "stream",
     "text": [
      "==========================================================================\n"
     ]
    },
    {
     "name": "stderr",
     "output_type": "stream",
     "text": [
      "[INFO 04-02 19:34:57] botorch: Generated candidate batch 1 of 1.\n",
      "[INFO 04-02 19:34:57] botorch: Best posterior mean for the objective: 0.257989 at tensor([[-0.0053]], dtype=torch.float32)(Exact obj evaluation 0.258938)\n",
      "[INFO 04-02 19:34:57] botorch: total cost used: 100\n",
      "[INFO 04-02 19:34:57] botorch: ==========================================================================\n",
      "[INFO 04-02 19:34:57] botorch: Remaining budget: 50\n",
      "[INFO 04-02 19:34:57] botorch: Generated candidate batch 1 of 1.\n",
      "[INFO 04-02 19:34:57] botorch: Optimizing the acquisition takes 0.0161 seconds\n",
      "[INFO 04-02 19:34:57] botorch: Evaluate the full network at input tensor([[-1.]]) (acqf val: 0.0469): tensor([[-0.8293,  0.3293]])\n"
     ]
    },
    {
     "name": "stdout",
     "output_type": "stream",
     "text": [
      "==========================================================================\n"
     ]
    },
    {
     "name": "stderr",
     "output_type": "stream",
     "text": [
      "[INFO 04-02 19:34:57] botorch: Generated candidate batch 1 of 1.\n",
      "[INFO 04-02 19:34:57] botorch: Best posterior mean for the objective: 0.329275 at tensor([[-1.]], dtype=torch.float32)(Exact obj evaluation 0.329268)\n",
      "[INFO 04-02 19:34:57] botorch: total cost used: 150\n",
      "[INFO 04-02 19:34:57] botorch: ==========================================================================\n"
     ]
    },
    {
     "name": "stdout",
     "output_type": "stream",
     "text": [
      "==========================================================================\n"
     ]
    }
   ],
   "source": [
    "GPs2_runner_(\n",
    "    trial=10,\n",
    "    algo='EI',  # options: \"EI\", \"KG\", \"Random\", \"EIFN\", \"KGFN\", \"TSFN\", \"pKGFN\", \"fast_pKGFN\"\n",
    "    costs='1_49',\n",
    "    budget=150,\n",
    "    impose_assump=True, #true or false\n",
    ")"
   ]
  }
 ],
 "metadata": {
  "kernelspec": {
   "display_name": "pKGFN",
   "language": "python",
   "name": "python3"
  },
  "language_info": {
   "codemirror_mode": {
    "name": "ipython",
    "version": 3
   },
   "file_extension": ".py",
   "mimetype": "text/x-python",
   "name": "python",
   "nbconvert_exporter": "python",
   "pygments_lexer": "ipython3",
   "version": "3.9.21"
  }
 },
 "nbformat": 4,
 "nbformat_minor": 2
}
