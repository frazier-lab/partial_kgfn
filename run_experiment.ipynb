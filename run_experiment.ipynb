{
 "cells": [
  {
   "cell_type": "markdown",
   "metadata": {},
   "source": [
    "### Load the runner for the FreeSolv problem"
   ]
  },
  {
   "cell_type": "code",
   "execution_count": 1,
   "metadata": {},
   "outputs": [
    {
     "name": "stderr",
     "output_type": "stream",
     "text": [
      "/opt/anaconda3/envs/pKGFN/lib/python3.9/site-packages/botorch/models/utils/assorted.py:193: UserWarning: std(): degrees of freedom is <= 0. Correction should be strictly less than the reduction factor (input numel divided by output numel). (Triggered internally at /Users/runner/work/pytorch/pytorch/pytorch/aten/src/ATen/native/ReduceOps.cpp:1831.)\n",
      "  Ymean, Ystd = torch.mean(Y, dim=-2), torch.std(Y, dim=-2)\n",
      "/opt/anaconda3/envs/pKGFN/lib/python3.9/site-packages/botorch/models/utils/assorted.py:193: UserWarning: std(): degrees of freedom is <= 0. Correction should be strictly less than the reduction factor (input numel divided by output numel). (Triggered internally at /Users/runner/work/pytorch/pytorch/pytorch/aten/src/ATen/native/ReduceOps.cpp:1831.)\n",
      "  Ymean, Ystd = torch.mean(Y, dim=-2), torch.std(Y, dim=-2)\n"
     ]
    }
   ],
   "source": [
    "from partial_kgfn.experiments.freesolv3_runner import main as freesolv3_runner_"
   ]
  },
  {
   "cell_type": "markdown",
   "metadata": {},
   "source": [
    "### Run a single trial for the FreeSolv problem"
   ]
  },
  {
   "cell_type": "code",
   "execution_count": 3,
   "metadata": {},
   "outputs": [
    {
     "name": "stderr",
     "output_type": "stream",
     "text": [
      "[INFO 04-02 19:22:00] botorch: ============================Start New Experiment=================================\n",
      "Experiment: freesolv3_1_49\n",
      "Algorithm: fast_pKGFN\n",
      "Trial: 10\n",
      "[INFO 04-02 19:22:01] botorch: Generated candidate batch 1 of 1.\n",
      "[INFO 04-02 19:22:01] botorch: Initial best posterior mean for the objective: 13.770128 at tensor([[0.5570, 0.7987, 0.9791]])(Exact obj evaluation 13.709005)\n",
      "[INFO 04-02 19:22:01] botorch: Remaining budget: 150\n"
     ]
    },
    {
     "name": "stdout",
     "output_type": "stream",
     "text": [
      "==========================================================================\n"
     ]
    },
    {
     "name": "stderr",
     "output_type": "stream",
     "text": [
      "[INFO 04-02 19:22:01] botorch: Generated candidate batch 1 of 30.\n",
      "[INFO 04-02 19:22:01] botorch: Generated candidate batch 2 of 30.\n",
      "[INFO 04-02 19:22:01] botorch: Generated candidate batch 3 of 30.\n",
      "[INFO 04-02 19:22:01] botorch: Generated candidate batch 4 of 30.\n",
      "[INFO 04-02 19:22:02] botorch: Generated candidate batch 5 of 30.\n",
      "[INFO 04-02 19:22:02] botorch: Generated candidate batch 6 of 30.\n",
      "[INFO 04-02 19:22:02] botorch: Generated candidate batch 7 of 30.\n",
      "[INFO 04-02 19:22:02] botorch: Generated candidate batch 8 of 30.\n",
      "[INFO 04-02 19:22:02] botorch: Generated candidate batch 9 of 30.\n",
      "[INFO 04-02 19:22:02] botorch: Generated candidate batch 10 of 30.\n",
      "[INFO 04-02 19:22:02] botorch: Generated candidate batch 11 of 30.\n",
      "[INFO 04-02 19:22:02] botorch: Generated candidate batch 12 of 30.\n",
      "[INFO 04-02 19:22:02] botorch: Generated candidate batch 13 of 30.\n",
      "[INFO 04-02 19:22:02] botorch: Generated candidate batch 14 of 30.\n",
      "[INFO 04-02 19:22:02] botorch: Generated candidate batch 15 of 30.\n",
      "[INFO 04-02 19:22:02] botorch: Generated candidate batch 16 of 30.\n",
      "[INFO 04-02 19:22:02] botorch: Generated candidate batch 17 of 30.\n",
      "[INFO 04-02 19:22:02] botorch: Generated candidate batch 18 of 30.\n",
      "[INFO 04-02 19:22:03] botorch: Generated candidate batch 19 of 30.\n",
      "[INFO 04-02 19:22:03] botorch: Generated candidate batch 20 of 30.\n",
      "[INFO 04-02 19:22:03] botorch: Generated candidate batch 21 of 30.\n",
      "[INFO 04-02 19:22:03] botorch: Generated candidate batch 22 of 30.\n",
      "[INFO 04-02 19:22:03] botorch: Generated candidate batch 23 of 30.\n",
      "[INFO 04-02 19:22:03] botorch: Generated candidate batch 24 of 30.\n",
      "[INFO 04-02 19:22:03] botorch: Generated candidate batch 25 of 30.\n",
      "[INFO 04-02 19:22:03] botorch: Generated candidate batch 26 of 30.\n",
      "[INFO 04-02 19:22:03] botorch: Generated candidate batch 27 of 30.\n",
      "[INFO 04-02 19:22:03] botorch: Generated candidate batch 28 of 30.\n",
      "[INFO 04-02 19:22:03] botorch: Generated candidate batch 29 of 30.\n",
      "[INFO 04-02 19:22:03] botorch: Generated candidate batch 30 of 30.\n",
      "[INFO 04-02 19:22:03] botorch: Generate X_fantansies_candidate takes 2.3972 seconds\n",
      "[INFO 04-02 19:22:03] botorch: Generated candidate batch 1 of 6.\n",
      "[INFO 04-02 19:22:03] botorch: Generated candidate batch 2 of 6.\n",
      "[INFO 04-02 19:22:03] botorch: Generated candidate batch 3 of 6.\n",
      "[INFO 04-02 19:22:04] botorch: Generated candidate batch 4 of 6.\n",
      "[INFO 04-02 19:22:04] botorch: Generated candidate batch 5 of 6.\n",
      "[INFO 04-02 19:22:04] botorch: Generated candidate batch 6 of 6.\n",
      "[INFO 04-02 19:22:04] botorch: Generated candidate batch 1 of 16.\n",
      "[INFO 04-02 19:22:04] botorch: Generated candidate batch 2 of 16.\n",
      "[INFO 04-02 19:22:04] botorch: Generated candidate batch 3 of 16.\n",
      "[INFO 04-02 19:22:04] botorch: Generated candidate batch 4 of 16.\n",
      "[INFO 04-02 19:22:04] botorch: Generated candidate batch 5 of 16.\n",
      "[INFO 04-02 19:22:04] botorch: Generated candidate batch 6 of 16.\n",
      "[INFO 04-02 19:22:04] botorch: Generated candidate batch 7 of 16.\n",
      "[INFO 04-02 19:22:04] botorch: Generated candidate batch 8 of 16.\n",
      "[INFO 04-02 19:22:04] botorch: Generated candidate batch 9 of 16.\n",
      "[INFO 04-02 19:22:04] botorch: Generated candidate batch 10 of 16.\n",
      "[INFO 04-02 19:22:04] botorch: Generated candidate batch 11 of 16.\n",
      "[INFO 04-02 19:22:04] botorch: Generated candidate batch 12 of 16.\n",
      "[INFO 04-02 19:22:04] botorch: Generated candidate batch 13 of 16.\n",
      "[INFO 04-02 19:22:04] botorch: Generated candidate batch 14 of 16.\n",
      "[INFO 04-02 19:22:05] botorch: Generated candidate batch 15 of 16.\n",
      "[INFO 04-02 19:22:05] botorch: Generated candidate batch 16 of 16.\n",
      "[INFO 04-02 19:22:05] botorch: Optimization EIFN to get a network candidate took 1.4365 seconds\n",
      "[INFO 04-02 19:22:05] botorch: EIFN candidate tensor([[0.6497, 0.7756, 0.8464]])\n",
      "[INFO 04-02 19:22:05] botorch: Starting fast_pKGFN optimization at node [0]\n",
      "[INFO 04-02 19:22:05] botorch: Node [0]'s candidate: tensor([[0.6497, 0.7756, 0.8464]])\n",
      "[INFO 04-02 19:22:05] botorch: fast_pKGFN optimization at node [0] took 0.019566774368286133 secs\n",
      "[INFO 04-02 19:22:05] botorch: Starting fast_pKGFN optimization at node [1]\n",
      "[INFO 04-02 19:22:05] botorch: Node [1]'s candidate: tensor([[19.5001]])\n",
      "[INFO 04-02 19:22:05] botorch: fast_pKGFN optimization at node [1] took 0.01641392707824707 secs\n",
      "[INFO 04-02 19:22:05] botorch: Optimizing the acquisition takes 3.8873 seconds\n",
      "[INFO 04-02 19:22:05] botorch: Evaluate at node [0] with input tensor([[0.6497, 0.7756, 0.8464]])(acqf val (over cost): 0.4675): tensor([[12.0866]])\n"
     ]
    },
    {
     "name": "stdout",
     "output_type": "stream",
     "text": [
      "0.4674759172297911\n"
     ]
    },
    {
     "name": "stderr",
     "output_type": "stream",
     "text": [
      "[INFO 04-02 19:22:05] botorch: Generated candidate batch 1 of 1.\n",
      "[INFO 04-02 19:22:05] botorch: Best posterior mean for the objective: 13.948752 at tensor([[0.5182, 0.8062, 1.0000]])(Exact obj evaluation 13.757265)\n",
      "[INFO 04-02 19:22:05] botorch: total cost used: 1\n",
      "[INFO 04-02 19:22:05] botorch: ==========================================================================\n",
      "[INFO 04-02 19:22:05] botorch: Remaining budget: 149\n"
     ]
    },
    {
     "name": "stdout",
     "output_type": "stream",
     "text": [
      "==========================================================================\n"
     ]
    },
    {
     "name": "stderr",
     "output_type": "stream",
     "text": [
      "[INFO 04-02 19:22:05] botorch: Generated candidate batch 1 of 30.\n",
      "[INFO 04-02 19:22:05] botorch: Generated candidate batch 2 of 30.\n",
      "[INFO 04-02 19:22:06] botorch: Generated candidate batch 3 of 30.\n",
      "[INFO 04-02 19:22:06] botorch: Generated candidate batch 4 of 30.\n",
      "[INFO 04-02 19:22:06] botorch: Generated candidate batch 5 of 30.\n",
      "[INFO 04-02 19:22:06] botorch: Generated candidate batch 6 of 30.\n",
      "[INFO 04-02 19:22:06] botorch: Generated candidate batch 7 of 30.\n",
      "[INFO 04-02 19:22:06] botorch: Generated candidate batch 8 of 30.\n",
      "[INFO 04-02 19:22:06] botorch: Generated candidate batch 9 of 30.\n",
      "[INFO 04-02 19:22:06] botorch: Generated candidate batch 10 of 30.\n",
      "[INFO 04-02 19:22:06] botorch: Generated candidate batch 11 of 30.\n",
      "[INFO 04-02 19:22:06] botorch: Generated candidate batch 12 of 30.\n",
      "[INFO 04-02 19:22:06] botorch: Generated candidate batch 13 of 30.\n",
      "[INFO 04-02 19:22:06] botorch: Generated candidate batch 14 of 30.\n",
      "[INFO 04-02 19:22:06] botorch: Generated candidate batch 15 of 30.\n",
      "[INFO 04-02 19:22:06] botorch: Generated candidate batch 16 of 30.\n",
      "[INFO 04-02 19:22:06] botorch: Generated candidate batch 17 of 30.\n",
      "[INFO 04-02 19:22:06] botorch: Generated candidate batch 18 of 30.\n",
      "[INFO 04-02 19:22:07] botorch: Generated candidate batch 19 of 30.\n",
      "[INFO 04-02 19:22:07] botorch: Generated candidate batch 20 of 30.\n",
      "[INFO 04-02 19:22:07] botorch: Generated candidate batch 21 of 30.\n",
      "[INFO 04-02 19:22:07] botorch: Generated candidate batch 22 of 30.\n",
      "[INFO 04-02 19:22:07] botorch: Generated candidate batch 23 of 30.\n",
      "[INFO 04-02 19:22:07] botorch: Generated candidate batch 24 of 30.\n",
      "[INFO 04-02 19:22:07] botorch: Generated candidate batch 25 of 30.\n",
      "[INFO 04-02 19:22:07] botorch: Generated candidate batch 26 of 30.\n",
      "[INFO 04-02 19:22:07] botorch: Generated candidate batch 27 of 30.\n",
      "[INFO 04-02 19:22:07] botorch: Generated candidate batch 28 of 30.\n",
      "[INFO 04-02 19:22:07] botorch: Generated candidate batch 29 of 30.\n",
      "[INFO 04-02 19:22:07] botorch: Generated candidate batch 30 of 30.\n",
      "[INFO 04-02 19:22:07] botorch: Generate X_fantansies_candidate takes 2.2822 seconds\n",
      "[INFO 04-02 19:22:08] botorch: Generated candidate batch 1 of 6.\n",
      "[INFO 04-02 19:22:08] botorch: Generated candidate batch 2 of 6.\n",
      "[INFO 04-02 19:22:08] botorch: Generated candidate batch 3 of 6.\n",
      "[INFO 04-02 19:22:08] botorch: Generated candidate batch 4 of 6.\n",
      "[INFO 04-02 19:22:08] botorch: Generated candidate batch 5 of 6.\n",
      "[INFO 04-02 19:22:08] botorch: Generated candidate batch 6 of 6.\n",
      "[INFO 04-02 19:22:08] botorch: Generated candidate batch 1 of 16.\n",
      "[INFO 04-02 19:22:08] botorch: Generated candidate batch 2 of 16.\n",
      "[INFO 04-02 19:22:08] botorch: Generated candidate batch 3 of 16.\n",
      "[INFO 04-02 19:22:08] botorch: Generated candidate batch 4 of 16.\n",
      "[INFO 04-02 19:22:08] botorch: Generated candidate batch 5 of 16.\n",
      "[INFO 04-02 19:22:08] botorch: Generated candidate batch 6 of 16.\n",
      "[INFO 04-02 19:22:08] botorch: Generated candidate batch 7 of 16.\n",
      "[INFO 04-02 19:22:08] botorch: Generated candidate batch 8 of 16.\n",
      "[INFO 04-02 19:22:08] botorch: Generated candidate batch 9 of 16.\n",
      "[INFO 04-02 19:22:09] botorch: Generated candidate batch 10 of 16.\n",
      "[INFO 04-02 19:22:09] botorch: Generated candidate batch 11 of 16.\n",
      "[INFO 04-02 19:22:09] botorch: Generated candidate batch 12 of 16.\n",
      "[INFO 04-02 19:22:09] botorch: Generated candidate batch 13 of 16.\n",
      "[INFO 04-02 19:22:09] botorch: Generated candidate batch 14 of 16.\n",
      "[INFO 04-02 19:22:09] botorch: Generated candidate batch 15 of 16.\n",
      "[INFO 04-02 19:22:09] botorch: Generated candidate batch 16 of 16.\n",
      "[INFO 04-02 19:22:09] botorch: Optimization EIFN to get a network candidate took 1.7335 seconds\n",
      "[INFO 04-02 19:22:09] botorch: EIFN candidate tensor([[0.4293, 0.8385, 1.0000]])\n",
      "[INFO 04-02 19:22:09] botorch: Starting fast_pKGFN optimization at node [0]\n",
      "[INFO 04-02 19:22:09] botorch: Node [0]'s candidate: tensor([[0.4293, 0.8385, 1.0000]])\n",
      "[INFO 04-02 19:22:09] botorch: fast_pKGFN optimization at node [0] took 0.018275737762451172 secs\n",
      "[INFO 04-02 19:22:09] botorch: Starting fast_pKGFN optimization at node [1]\n",
      "[INFO 04-02 19:22:09] botorch: Node [1]'s candidate: tensor([[17.0212]])\n",
      "[INFO 04-02 19:22:09] botorch: fast_pKGFN optimization at node [1] took 0.017673015594482422 secs\n",
      "[INFO 04-02 19:22:09] botorch: Optimizing the acquisition takes 4.0731 seconds\n",
      "[INFO 04-02 19:22:09] botorch: Evaluate at node [0] with input tensor([[0.4293, 0.8385, 1.0000]])(acqf val (over cost): 0.4684): tensor([[15.8397]])\n"
     ]
    },
    {
     "name": "stdout",
     "output_type": "stream",
     "text": [
      "0.4684475225589928\n"
     ]
    },
    {
     "name": "stderr",
     "output_type": "stream",
     "text": [
      "[INFO 04-02 19:22:09] botorch: Generated candidate batch 1 of 1.\n",
      "[INFO 04-02 19:22:09] botorch: Best posterior mean for the objective: 14.277214 at tensor([[0.4699, 0.8242, 1.0000]])(Exact obj evaluation 13.708176)\n",
      "[INFO 04-02 19:22:09] botorch: total cost used: 2\n",
      "[INFO 04-02 19:22:09] botorch: ==========================================================================\n",
      "[INFO 04-02 19:22:09] botorch: Remaining budget: 148\n"
     ]
    },
    {
     "name": "stdout",
     "output_type": "stream",
     "text": [
      "==========================================================================\n"
     ]
    },
    {
     "name": "stderr",
     "output_type": "stream",
     "text": [
      "[INFO 04-02 19:22:10] botorch: Generated candidate batch 1 of 30.\n",
      "[INFO 04-02 19:22:10] botorch: Generated candidate batch 2 of 30.\n",
      "[INFO 04-02 19:22:10] botorch: Generated candidate batch 3 of 30.\n",
      "[INFO 04-02 19:22:10] botorch: Generated candidate batch 4 of 30.\n",
      "[INFO 04-02 19:22:10] botorch: Generated candidate batch 5 of 30.\n",
      "[INFO 04-02 19:22:10] botorch: Generated candidate batch 6 of 30.\n",
      "[INFO 04-02 19:22:10] botorch: Generated candidate batch 7 of 30.\n",
      "[INFO 04-02 19:22:10] botorch: Generated candidate batch 8 of 30.\n",
      "[INFO 04-02 19:22:10] botorch: Generated candidate batch 9 of 30.\n",
      "[INFO 04-02 19:22:10] botorch: Generated candidate batch 10 of 30.\n",
      "[INFO 04-02 19:22:10] botorch: Generated candidate batch 11 of 30.\n",
      "[INFO 04-02 19:22:11] botorch: Generated candidate batch 12 of 30.\n",
      "[INFO 04-02 19:22:11] botorch: Generated candidate batch 13 of 30.\n",
      "[INFO 04-02 19:22:11] botorch: Generated candidate batch 14 of 30.\n",
      "[INFO 04-02 19:22:11] botorch: Generated candidate batch 15 of 30.\n",
      "[INFO 04-02 19:22:11] botorch: Generated candidate batch 16 of 30.\n",
      "[INFO 04-02 19:22:11] botorch: Generated candidate batch 17 of 30.\n",
      "[INFO 04-02 19:22:11] botorch: Generated candidate batch 18 of 30.\n",
      "[INFO 04-02 19:22:11] botorch: Generated candidate batch 19 of 30.\n",
      "[INFO 04-02 19:22:11] botorch: Generated candidate batch 20 of 30.\n",
      "[INFO 04-02 19:22:11] botorch: Generated candidate batch 21 of 30.\n",
      "[INFO 04-02 19:22:11] botorch: Generated candidate batch 22 of 30.\n",
      "[INFO 04-02 19:22:11] botorch: Generated candidate batch 23 of 30.\n",
      "[INFO 04-02 19:22:11] botorch: Generated candidate batch 24 of 30.\n",
      "[INFO 04-02 19:22:11] botorch: Generated candidate batch 25 of 30.\n",
      "[INFO 04-02 19:22:11] botorch: Generated candidate batch 26 of 30.\n",
      "[INFO 04-02 19:22:11] botorch: Generated candidate batch 27 of 30.\n",
      "[INFO 04-02 19:22:11] botorch: Generated candidate batch 28 of 30.\n",
      "[INFO 04-02 19:22:12] botorch: Generated candidate batch 29 of 30.\n",
      "[INFO 04-02 19:22:12] botorch: Generated candidate batch 30 of 30.\n",
      "[INFO 04-02 19:22:12] botorch: Generate X_fantansies_candidate takes 2.2507 seconds\n",
      "[INFO 04-02 19:22:12] botorch: Generated candidate batch 1 of 6.\n",
      "[INFO 04-02 19:22:12] botorch: Generated candidate batch 2 of 6.\n",
      "[INFO 04-02 19:22:12] botorch: Generated candidate batch 3 of 6.\n",
      "[INFO 04-02 19:22:12] botorch: Generated candidate batch 4 of 6.\n",
      "[INFO 04-02 19:22:12] botorch: Generated candidate batch 5 of 6.\n",
      "[INFO 04-02 19:22:12] botorch: Generated candidate batch 6 of 6.\n",
      "[INFO 04-02 19:22:12] botorch: Generated candidate batch 1 of 16.\n",
      "[INFO 04-02 19:22:12] botorch: Generated candidate batch 2 of 16.\n",
      "[INFO 04-02 19:22:12] botorch: Generated candidate batch 3 of 16.\n",
      "[INFO 04-02 19:22:13] botorch: Generated candidate batch 4 of 16.\n",
      "[INFO 04-02 19:22:13] botorch: Generated candidate batch 5 of 16.\n",
      "[INFO 04-02 19:22:13] botorch: Generated candidate batch 6 of 16.\n",
      "[INFO 04-02 19:22:13] botorch: Generated candidate batch 7 of 16.\n",
      "[INFO 04-02 19:22:13] botorch: Generated candidate batch 8 of 16.\n",
      "[INFO 04-02 19:22:13] botorch: Generated candidate batch 9 of 16.\n",
      "[INFO 04-02 19:22:13] botorch: Generated candidate batch 10 of 16.\n",
      "[INFO 04-02 19:22:13] botorch: Generated candidate batch 11 of 16.\n",
      "[INFO 04-02 19:22:13] botorch: Generated candidate batch 12 of 16.\n",
      "[INFO 04-02 19:22:13] botorch: Generated candidate batch 13 of 16.\n",
      "[INFO 04-02 19:22:13] botorch: Generated candidate batch 14 of 16.\n",
      "[INFO 04-02 19:22:13] botorch: Generated candidate batch 15 of 16.\n",
      "[INFO 04-02 19:22:13] botorch: Generated candidate batch 16 of 16.\n",
      "[INFO 04-02 19:22:13] botorch: Optimization EIFN to get a network candidate took 1.7528 seconds\n",
      "[INFO 04-02 19:22:13] botorch: EIFN candidate tensor([[0.5364, 0.8971, 1.0000]])\n",
      "[INFO 04-02 19:22:13] botorch: Starting fast_pKGFN optimization at node [0]\n",
      "[INFO 04-02 19:22:13] botorch: Node [0]'s candidate: tensor([[0.5364, 0.8971, 1.0000]])\n",
      "[INFO 04-02 19:22:13] botorch: fast_pKGFN optimization at node [0] took 0.017344951629638672 secs\n",
      "[INFO 04-02 19:22:13] botorch: Starting fast_pKGFN optimization at node [1]\n",
      "[INFO 04-02 19:22:13] botorch: Node [1]'s candidate: tensor([[18.3077]])\n",
      "[INFO 04-02 19:22:13] botorch: fast_pKGFN optimization at node [1] took 0.017319202423095703 secs\n",
      "[INFO 04-02 19:22:13] botorch: Optimizing the acquisition takes 4.0547 seconds\n",
      "[INFO 04-02 19:22:13] botorch: Evaluate at node [0] with input tensor([[0.5364, 0.8971, 1.0000]])(acqf val (over cost): 0.5209): tensor([[14.8896]])\n"
     ]
    },
    {
     "name": "stdout",
     "output_type": "stream",
     "text": [
      "0.5209220403614658\n"
     ]
    },
    {
     "name": "stderr",
     "output_type": "stream",
     "text": [
      "[INFO 04-02 19:22:14] botorch: Generated candidate batch 1 of 1.\n",
      "[INFO 04-02 19:22:14] botorch: Best posterior mean for the objective: 14.270670 at tensor([[0.4613, 0.8170, 1.0000]])(Exact obj evaluation 13.691667)\n",
      "[INFO 04-02 19:22:14] botorch: total cost used: 3\n",
      "[INFO 04-02 19:22:14] botorch: ==========================================================================\n",
      "[INFO 04-02 19:22:14] botorch: Remaining budget: 147\n"
     ]
    },
    {
     "name": "stdout",
     "output_type": "stream",
     "text": [
      "==========================================================================\n"
     ]
    },
    {
     "name": "stderr",
     "output_type": "stream",
     "text": [
      "[INFO 04-02 19:22:14] botorch: Generated candidate batch 1 of 30.\n",
      "[INFO 04-02 19:22:14] botorch: Generated candidate batch 2 of 30.\n",
      "[INFO 04-02 19:22:14] botorch: Generated candidate batch 3 of 30.\n",
      "[INFO 04-02 19:22:14] botorch: Generated candidate batch 4 of 30.\n",
      "[INFO 04-02 19:22:14] botorch: Generated candidate batch 5 of 30.\n",
      "[INFO 04-02 19:22:14] botorch: Generated candidate batch 6 of 30.\n",
      "[INFO 04-02 19:22:14] botorch: Generated candidate batch 7 of 30.\n",
      "[INFO 04-02 19:22:14] botorch: Generated candidate batch 8 of 30.\n",
      "[INFO 04-02 19:22:14] botorch: Generated candidate batch 9 of 30.\n",
      "[INFO 04-02 19:22:15] botorch: Generated candidate batch 10 of 30.\n",
      "[INFO 04-02 19:22:15] botorch: Generated candidate batch 11 of 30.\n",
      "[INFO 04-02 19:22:15] botorch: Generated candidate batch 12 of 30.\n",
      "[INFO 04-02 19:22:15] botorch: Generated candidate batch 13 of 30.\n",
      "[INFO 04-02 19:22:15] botorch: Generated candidate batch 14 of 30.\n",
      "[INFO 04-02 19:22:15] botorch: Generated candidate batch 15 of 30.\n",
      "[INFO 04-02 19:22:15] botorch: Generated candidate batch 16 of 30.\n",
      "[INFO 04-02 19:22:15] botorch: Generated candidate batch 17 of 30.\n",
      "[INFO 04-02 19:22:15] botorch: Generated candidate batch 18 of 30.\n",
      "[INFO 04-02 19:22:15] botorch: Generated candidate batch 19 of 30.\n",
      "[INFO 04-02 19:22:15] botorch: Generated candidate batch 20 of 30.\n",
      "[INFO 04-02 19:22:15] botorch: Generated candidate batch 21 of 30.\n",
      "[INFO 04-02 19:22:15] botorch: Generated candidate batch 22 of 30.\n",
      "[INFO 04-02 19:22:15] botorch: Generated candidate batch 23 of 30.\n",
      "[INFO 04-02 19:22:15] botorch: Generated candidate batch 24 of 30.\n",
      "[INFO 04-02 19:22:15] botorch: Generated candidate batch 25 of 30.\n",
      "[INFO 04-02 19:22:15] botorch: Generated candidate batch 26 of 30.\n",
      "[INFO 04-02 19:22:15] botorch: Generated candidate batch 27 of 30.\n",
      "[INFO 04-02 19:22:15] botorch: Generated candidate batch 28 of 30.\n",
      "[INFO 04-02 19:22:15] botorch: Generated candidate batch 29 of 30.\n",
      "[INFO 04-02 19:22:16] botorch: Generated candidate batch 30 of 30.\n",
      "[INFO 04-02 19:22:16] botorch: Generate X_fantansies_candidate takes 1.8253 seconds\n",
      "[INFO 04-02 19:22:16] botorch: Generated candidate batch 1 of 6.\n",
      "[INFO 04-02 19:22:16] botorch: Generated candidate batch 2 of 6.\n",
      "[INFO 04-02 19:22:16] botorch: Generated candidate batch 3 of 6.\n",
      "[INFO 04-02 19:22:16] botorch: Generated candidate batch 4 of 6.\n",
      "[INFO 04-02 19:22:16] botorch: Generated candidate batch 5 of 6.\n",
      "[INFO 04-02 19:22:16] botorch: Generated candidate batch 6 of 6.\n",
      "[INFO 04-02 19:22:16] botorch: Generated candidate batch 1 of 16.\n",
      "[INFO 04-02 19:22:16] botorch: Generated candidate batch 2 of 16.\n",
      "[INFO 04-02 19:22:16] botorch: Generated candidate batch 3 of 16.\n",
      "[INFO 04-02 19:22:16] botorch: Generated candidate batch 4 of 16.\n",
      "[INFO 04-02 19:22:16] botorch: Generated candidate batch 5 of 16.\n",
      "[INFO 04-02 19:22:16] botorch: Generated candidate batch 6 of 16.\n",
      "[INFO 04-02 19:22:17] botorch: Generated candidate batch 7 of 16.\n",
      "[INFO 04-02 19:22:17] botorch: Generated candidate batch 8 of 16.\n",
      "[INFO 04-02 19:22:17] botorch: Generated candidate batch 9 of 16.\n",
      "[INFO 04-02 19:22:17] botorch: Generated candidate batch 10 of 16.\n",
      "[INFO 04-02 19:22:17] botorch: Generated candidate batch 11 of 16.\n",
      "[INFO 04-02 19:22:17] botorch: Generated candidate batch 12 of 16.\n",
      "[INFO 04-02 19:22:17] botorch: Generated candidate batch 13 of 16.\n",
      "[INFO 04-02 19:22:17] botorch: Generated candidate batch 14 of 16.\n",
      "[INFO 04-02 19:22:17] botorch: Generated candidate batch 15 of 16.\n",
      "[INFO 04-02 19:22:17] botorch: Generated candidate batch 16 of 16.\n",
      "[INFO 04-02 19:22:17] botorch: Optimization EIFN to get a network candidate took 1.4972 seconds\n",
      "[INFO 04-02 19:22:17] botorch: EIFN candidate tensor([[0.4087, 0.7510, 1.0000]])\n",
      "[INFO 04-02 19:22:17] botorch: Starting fast_pKGFN optimization at node [0]\n",
      "[INFO 04-02 19:22:17] botorch: Node [0]'s candidate: tensor([[0.4087, 0.7510, 1.0000]])\n",
      "[INFO 04-02 19:22:17] botorch: fast_pKGFN optimization at node [0] took 0.017385005950927734 secs\n",
      "[INFO 04-02 19:22:17] botorch: Starting fast_pKGFN optimization at node [1]\n",
      "[INFO 04-02 19:22:17] botorch: Node [1]'s candidate: tensor([[15.2264]])\n",
      "[INFO 04-02 19:22:17] botorch: fast_pKGFN optimization at node [1] took 0.017621994018554688 secs\n",
      "[INFO 04-02 19:22:17] botorch: Optimizing the acquisition takes 3.3746 seconds\n",
      "[INFO 04-02 19:22:17] botorch: Evaluate at node [0] with input tensor([[0.4087, 0.7510, 1.0000]])(acqf val (over cost): 0.2299): tensor([[15.6653]])\n"
     ]
    },
    {
     "name": "stdout",
     "output_type": "stream",
     "text": [
      "0.22985055472427618\n"
     ]
    },
    {
     "name": "stderr",
     "output_type": "stream",
     "text": [
      "[INFO 04-02 19:22:17] botorch: Generated candidate batch 1 of 1.\n",
      "[INFO 04-02 19:22:17] botorch: Best posterior mean for the objective: 14.303625 at tensor([[0.4477, 0.8021, 1.0000]])(Exact obj evaluation 13.679880)\n",
      "[INFO 04-02 19:22:17] botorch: total cost used: 4\n",
      "[INFO 04-02 19:22:17] botorch: ==========================================================================\n",
      "[INFO 04-02 19:22:17] botorch: Remaining budget: 146\n"
     ]
    },
    {
     "name": "stdout",
     "output_type": "stream",
     "text": [
      "==========================================================================\n"
     ]
    },
    {
     "name": "stderr",
     "output_type": "stream",
     "text": [
      "[INFO 04-02 19:22:18] botorch: Generated candidate batch 1 of 30.\n",
      "[INFO 04-02 19:22:18] botorch: Generated candidate batch 2 of 30.\n",
      "[INFO 04-02 19:22:18] botorch: Generated candidate batch 3 of 30.\n",
      "[INFO 04-02 19:22:18] botorch: Generated candidate batch 4 of 30.\n",
      "[INFO 04-02 19:22:18] botorch: Generated candidate batch 5 of 30.\n",
      "[INFO 04-02 19:22:18] botorch: Generated candidate batch 6 of 30.\n",
      "[INFO 04-02 19:22:18] botorch: Generated candidate batch 7 of 30.\n",
      "[INFO 04-02 19:22:18] botorch: Generated candidate batch 8 of 30.\n",
      "[INFO 04-02 19:22:18] botorch: Generated candidate batch 9 of 30.\n",
      "[INFO 04-02 19:22:18] botorch: Generated candidate batch 10 of 30.\n",
      "[INFO 04-02 19:22:18] botorch: Generated candidate batch 11 of 30.\n",
      "[INFO 04-02 19:22:18] botorch: Generated candidate batch 12 of 30.\n",
      "[INFO 04-02 19:22:18] botorch: Generated candidate batch 13 of 30.\n",
      "[INFO 04-02 19:22:18] botorch: Generated candidate batch 14 of 30.\n",
      "[INFO 04-02 19:22:18] botorch: Generated candidate batch 15 of 30.\n",
      "[INFO 04-02 19:22:18] botorch: Generated candidate batch 16 of 30.\n",
      "[INFO 04-02 19:22:18] botorch: Generated candidate batch 17 of 30.\n",
      "[INFO 04-02 19:22:18] botorch: Generated candidate batch 18 of 30.\n",
      "[INFO 04-02 19:22:18] botorch: Generated candidate batch 19 of 30.\n",
      "[INFO 04-02 19:22:18] botorch: Generated candidate batch 20 of 30.\n",
      "[INFO 04-02 19:22:18] botorch: Generated candidate batch 21 of 30.\n",
      "[INFO 04-02 19:22:19] botorch: Generated candidate batch 22 of 30.\n",
      "[INFO 04-02 19:22:19] botorch: Generated candidate batch 23 of 30.\n",
      "[INFO 04-02 19:22:19] botorch: Generated candidate batch 24 of 30.\n",
      "[INFO 04-02 19:22:19] botorch: Generated candidate batch 25 of 30.\n",
      "[INFO 04-02 19:22:19] botorch: Generated candidate batch 26 of 30.\n",
      "[INFO 04-02 19:22:19] botorch: Generated candidate batch 27 of 30.\n",
      "[INFO 04-02 19:22:19] botorch: Generated candidate batch 28 of 30.\n",
      "[INFO 04-02 19:22:19] botorch: Generated candidate batch 29 of 30.\n",
      "[INFO 04-02 19:22:19] botorch: Generated candidate batch 30 of 30.\n",
      "[INFO 04-02 19:22:19] botorch: Generate X_fantansies_candidate takes 1.5225 seconds\n",
      "[INFO 04-02 19:22:19] botorch: Generated candidate batch 1 of 6.\n",
      "[INFO 04-02 19:22:19] botorch: Generated candidate batch 2 of 6.\n",
      "[INFO 04-02 19:22:19] botorch: Generated candidate batch 3 of 6.\n",
      "[INFO 04-02 19:22:19] botorch: Generated candidate batch 4 of 6.\n",
      "[INFO 04-02 19:22:19] botorch: Generated candidate batch 5 of 6.\n",
      "[INFO 04-02 19:22:19] botorch: Generated candidate batch 6 of 6.\n",
      "[INFO 04-02 19:22:19] botorch: Generated candidate batch 1 of 16.\n",
      "[INFO 04-02 19:22:19] botorch: Generated candidate batch 2 of 16.\n",
      "[INFO 04-02 19:22:19] botorch: Generated candidate batch 3 of 16.\n",
      "[INFO 04-02 19:22:19] botorch: Generated candidate batch 4 of 16.\n",
      "[INFO 04-02 19:22:20] botorch: Generated candidate batch 5 of 16.\n",
      "[INFO 04-02 19:22:20] botorch: Generated candidate batch 6 of 16.\n",
      "[INFO 04-02 19:22:20] botorch: Generated candidate batch 7 of 16.\n",
      "[INFO 04-02 19:22:20] botorch: Generated candidate batch 8 of 16.\n",
      "[INFO 04-02 19:22:20] botorch: Generated candidate batch 9 of 16.\n",
      "[INFO 04-02 19:22:20] botorch: Generated candidate batch 10 of 16.\n",
      "[INFO 04-02 19:22:20] botorch: Generated candidate batch 11 of 16.\n",
      "[INFO 04-02 19:22:20] botorch: Generated candidate batch 12 of 16.\n",
      "[INFO 04-02 19:22:20] botorch: Generated candidate batch 13 of 16.\n",
      "[INFO 04-02 19:22:20] botorch: Generated candidate batch 14 of 16.\n",
      "[INFO 04-02 19:22:20] botorch: Generated candidate batch 15 of 16.\n",
      "[INFO 04-02 19:22:20] botorch: Generated candidate batch 16 of 16.\n",
      "[INFO 04-02 19:22:20] botorch: Optimization EIFN to get a network candidate took 1.0597 seconds\n",
      "[INFO 04-02 19:22:20] botorch: EIFN candidate tensor([[0.1532, 0.8788, 1.0000]])\n",
      "[INFO 04-02 19:22:20] botorch: Starting fast_pKGFN optimization at node [0]\n",
      "[INFO 04-02 19:22:20] botorch: Node [0]'s candidate: tensor([[0.1532, 0.8788, 1.0000]])\n",
      "[INFO 04-02 19:22:20] botorch: fast_pKGFN optimization at node [0] took 0.01722121238708496 secs\n",
      "[INFO 04-02 19:22:20] botorch: Starting fast_pKGFN optimization at node [1]\n",
      "[INFO 04-02 19:22:20] botorch: Node [1]'s candidate: tensor([[13.3666]])\n",
      "[INFO 04-02 19:22:20] botorch: fast_pKGFN optimization at node [1] took 0.017420053482055664 secs\n",
      "[INFO 04-02 19:22:20] botorch: Optimizing the acquisition takes 2.6344 seconds\n",
      "[INFO 04-02 19:22:20] botorch: Evaluate at node [1] with input tensor([[13.3666]])(acqf val (over cost): -0.0001): tensor([[11.3721]])\n"
     ]
    },
    {
     "name": "stdout",
     "output_type": "stream",
     "text": [
      "-0.0001426016243760595\n"
     ]
    },
    {
     "name": "stderr",
     "output_type": "stream",
     "text": [
      "[INFO 04-02 19:22:20] botorch: Generated candidate batch 1 of 1.\n",
      "[INFO 04-02 19:22:20] botorch: Best posterior mean for the objective: 14.139404 at tensor([[0.4472, 0.8024, 1.0000]])(Exact obj evaluation 13.680744)\n",
      "[INFO 04-02 19:22:20] botorch: total cost used: 53\n",
      "[INFO 04-02 19:22:20] botorch: ==========================================================================\n",
      "[INFO 04-02 19:22:20] botorch: Remaining budget: 97\n"
     ]
    },
    {
     "name": "stdout",
     "output_type": "stream",
     "text": [
      "==========================================================================\n"
     ]
    },
    {
     "name": "stderr",
     "output_type": "stream",
     "text": [
      "[INFO 04-02 19:22:21] botorch: Generated candidate batch 1 of 30.\n",
      "[INFO 04-02 19:22:21] botorch: Generated candidate batch 2 of 30.\n",
      "[INFO 04-02 19:22:21] botorch: Generated candidate batch 3 of 30.\n",
      "[INFO 04-02 19:22:21] botorch: Generated candidate batch 4 of 30.\n",
      "[INFO 04-02 19:22:21] botorch: Generated candidate batch 5 of 30.\n",
      "[INFO 04-02 19:22:21] botorch: Generated candidate batch 6 of 30.\n",
      "[INFO 04-02 19:22:21] botorch: Generated candidate batch 7 of 30.\n",
      "[INFO 04-02 19:22:21] botorch: Generated candidate batch 8 of 30.\n",
      "[INFO 04-02 19:22:21] botorch: Generated candidate batch 9 of 30.\n",
      "[INFO 04-02 19:22:21] botorch: Generated candidate batch 10 of 30.\n",
      "[INFO 04-02 19:22:21] botorch: Generated candidate batch 11 of 30.\n",
      "[INFO 04-02 19:22:21] botorch: Generated candidate batch 12 of 30.\n",
      "[INFO 04-02 19:22:21] botorch: Generated candidate batch 13 of 30.\n",
      "[INFO 04-02 19:22:21] botorch: Generated candidate batch 14 of 30.\n",
      "[INFO 04-02 19:22:21] botorch: Generated candidate batch 15 of 30.\n",
      "[INFO 04-02 19:22:21] botorch: Generated candidate batch 16 of 30.\n",
      "[INFO 04-02 19:22:22] botorch: Generated candidate batch 17 of 30.\n",
      "[INFO 04-02 19:22:22] botorch: Generated candidate batch 18 of 30.\n",
      "[INFO 04-02 19:22:22] botorch: Generated candidate batch 19 of 30.\n",
      "[INFO 04-02 19:22:22] botorch: Generated candidate batch 20 of 30.\n",
      "[INFO 04-02 19:22:22] botorch: Generated candidate batch 21 of 30.\n",
      "[INFO 04-02 19:22:22] botorch: Generated candidate batch 22 of 30.\n",
      "[INFO 04-02 19:22:22] botorch: Generated candidate batch 23 of 30.\n",
      "[INFO 04-02 19:22:22] botorch: Generated candidate batch 24 of 30.\n",
      "[INFO 04-02 19:22:22] botorch: Generated candidate batch 25 of 30.\n",
      "[INFO 04-02 19:22:22] botorch: Generated candidate batch 26 of 30.\n",
      "[INFO 04-02 19:22:22] botorch: Generated candidate batch 27 of 30.\n",
      "[INFO 04-02 19:22:22] botorch: Generated candidate batch 28 of 30.\n",
      "[INFO 04-02 19:22:22] botorch: Generated candidate batch 29 of 30.\n",
      "[INFO 04-02 19:22:22] botorch: Generated candidate batch 30 of 30.\n",
      "[INFO 04-02 19:22:22] botorch: Generate X_fantansies_candidate takes 2.0904 seconds\n",
      "[INFO 04-02 19:22:23] botorch: Generated candidate batch 1 of 6.\n",
      "[INFO 04-02 19:22:23] botorch: Generated candidate batch 2 of 6.\n",
      "[INFO 04-02 19:22:23] botorch: Generated candidate batch 3 of 6.\n",
      "[INFO 04-02 19:22:23] botorch: Generated candidate batch 4 of 6.\n",
      "[INFO 04-02 19:22:23] botorch: Generated candidate batch 5 of 6.\n",
      "[INFO 04-02 19:22:23] botorch: Generated candidate batch 6 of 6.\n",
      "[INFO 04-02 19:22:23] botorch: Generated candidate batch 1 of 16.\n",
      "[INFO 04-02 19:22:23] botorch: Generated candidate batch 2 of 16.\n",
      "[INFO 04-02 19:22:23] botorch: Generated candidate batch 3 of 16.\n",
      "[INFO 04-02 19:22:23] botorch: Generated candidate batch 4 of 16.\n",
      "[INFO 04-02 19:22:23] botorch: Generated candidate batch 5 of 16.\n",
      "[INFO 04-02 19:22:23] botorch: Generated candidate batch 6 of 16.\n",
      "[INFO 04-02 19:22:23] botorch: Generated candidate batch 7 of 16.\n",
      "[INFO 04-02 19:22:23] botorch: Generated candidate batch 8 of 16.\n",
      "[INFO 04-02 19:22:23] botorch: Generated candidate batch 9 of 16.\n",
      "[INFO 04-02 19:22:23] botorch: Generated candidate batch 10 of 16.\n",
      "[INFO 04-02 19:22:23] botorch: Generated candidate batch 11 of 16.\n",
      "[INFO 04-02 19:22:23] botorch: Generated candidate batch 12 of 16.\n"
     ]
    },
    {
     "ename": "KeyboardInterrupt",
     "evalue": "",
     "output_type": "error",
     "traceback": [
      "\u001b[0;31m---------------------------------------------------------------------------\u001b[0m",
      "\u001b[0;31mKeyboardInterrupt\u001b[0m                         Traceback (most recent call last)",
      "Cell \u001b[0;32mIn[3], line 1\u001b[0m\n\u001b[0;32m----> 1\u001b[0m \u001b[43mfreesolv3_runner_\u001b[49m\u001b[43m(\u001b[49m\n\u001b[1;32m      2\u001b[0m \u001b[43m    \u001b[49m\u001b[43mtrial\u001b[49m\u001b[38;5;241;43m=\u001b[39;49m\u001b[38;5;241;43m10\u001b[39;49m\u001b[43m,\u001b[49m\n\u001b[1;32m      3\u001b[0m \u001b[43m    \u001b[49m\u001b[43malgo\u001b[49m\u001b[38;5;241;43m=\u001b[39;49m\u001b[38;5;124;43m'\u001b[39;49m\u001b[38;5;124;43mfast_pKGFN\u001b[39;49m\u001b[38;5;124;43m'\u001b[39;49m\u001b[43m,\u001b[49m\u001b[43m  \u001b[49m\u001b[38;5;66;43;03m# options: \"EI\", \"KG\", \"Random\", \"EIFN\", \"KGFN\", \"TSFN\", \"pKGFN\", \"fast_pKGFN\"\u001b[39;49;00m\n\u001b[1;32m      4\u001b[0m \u001b[43m    \u001b[49m\u001b[43mcosts\u001b[49m\u001b[38;5;241;43m=\u001b[39;49m\u001b[38;5;124;43m'\u001b[39;49m\u001b[38;5;124;43m1_49\u001b[39;49m\u001b[38;5;124;43m'\u001b[39;49m\u001b[43m,\u001b[49m\n\u001b[1;32m      5\u001b[0m \u001b[43m    \u001b[49m\u001b[43mbudget\u001b[49m\u001b[38;5;241;43m=\u001b[39;49m\u001b[38;5;241;43m150\u001b[39;49m\u001b[43m,\u001b[49m\n\u001b[1;32m      6\u001b[0m \u001b[43m    \u001b[49m\u001b[43mimpose_assump\u001b[49m\u001b[38;5;241;43m=\u001b[39;49m\u001b[38;5;28;43;01mFalse\u001b[39;49;00m\u001b[43m,\u001b[49m\u001b[43m \u001b[49m\u001b[38;5;66;43;03m#true or false\u001b[39;49;00m\n\u001b[1;32m      7\u001b[0m \u001b[43m)\u001b[49m\n",
      "File \u001b[0;32m~/Desktop/partial_kgfn/partial_kgfn/experiments/freesolv3_runner.py:71\u001b[0m, in \u001b[0;36mmain\u001b[0;34m(trial, algo, costs, budget, noisy, impose_assump)\u001b[0m\n\u001b[1;32m     69\u001b[0m \u001b[38;5;66;03m# set comparison metrics\u001b[39;00m\n\u001b[1;32m     70\u001b[0m metrics \u001b[38;5;241m=\u001b[39m [\u001b[38;5;124m\"\u001b[39m\u001b[38;5;124mobs_val\u001b[39m\u001b[38;5;124m\"\u001b[39m, \u001b[38;5;124m\"\u001b[39m\u001b[38;5;124mpos_mean\u001b[39m\u001b[38;5;124m\"\u001b[39m]  \u001b[38;5;66;03m# obs_val  pos_mean\u001b[39;00m\n\u001b[0;32m---> 71\u001b[0m \u001b[43mrun_one_trial\u001b[49m\u001b[43m(\u001b[49m\n\u001b[1;32m     72\u001b[0m \u001b[43m    \u001b[49m\u001b[43mproblem_name\u001b[49m\u001b[38;5;241;43m=\u001b[39;49m\u001b[43mproblem_name\u001b[49m\u001b[43m,\u001b[49m\n\u001b[1;32m     73\u001b[0m \u001b[43m    \u001b[49m\u001b[43mproblem\u001b[49m\u001b[38;5;241;43m=\u001b[39;49m\u001b[43mproblem\u001b[49m\u001b[43m,\u001b[49m\n\u001b[1;32m     74\u001b[0m \u001b[43m    \u001b[49m\u001b[43malgo\u001b[49m\u001b[38;5;241;43m=\u001b[39;49m\u001b[43malgo\u001b[49m\u001b[43m,\u001b[49m\n\u001b[1;32m     75\u001b[0m \u001b[43m    \u001b[49m\u001b[43mtrial\u001b[49m\u001b[38;5;241;43m=\u001b[39;49m\u001b[43mtrial\u001b[49m\u001b[43m,\u001b[49m\n\u001b[1;32m     76\u001b[0m \u001b[43m    \u001b[49m\u001b[43mmetrics\u001b[49m\u001b[38;5;241;43m=\u001b[39;49m\u001b[43mmetrics\u001b[49m\u001b[43m,\u001b[49m\n\u001b[1;32m     77\u001b[0m \u001b[43m    \u001b[49m\u001b[43mn_init_evals\u001b[49m\u001b[38;5;241;43m=\u001b[39;49m\u001b[38;5;241;43m2\u001b[39;49m\u001b[43m \u001b[49m\u001b[38;5;241;43m*\u001b[39;49m\u001b[43m \u001b[49m\u001b[43mproblem\u001b[49m\u001b[38;5;241;43m.\u001b[39;49m\u001b[43mdim\u001b[49m\u001b[43m \u001b[49m\u001b[38;5;241;43m+\u001b[39;49m\u001b[43m \u001b[49m\u001b[38;5;241;43m1\u001b[39;49m\u001b[43m,\u001b[49m\n\u001b[1;32m     78\u001b[0m \u001b[43m    \u001b[49m\u001b[43mbudget\u001b[49m\u001b[38;5;241;43m=\u001b[39;49m\u001b[43mbudget\u001b[49m\u001b[43m,\u001b[49m\n\u001b[1;32m     79\u001b[0m \u001b[43m    \u001b[49m\u001b[43mobjective\u001b[49m\u001b[38;5;241;43m=\u001b[39;49m\u001b[43mnetwork_objective\u001b[49m\u001b[43m,\u001b[49m\n\u001b[1;32m     80\u001b[0m \u001b[43m    \u001b[49m\u001b[43mnoisy\u001b[49m\u001b[38;5;241;43m=\u001b[39;49m\u001b[43mnoisy\u001b[49m\u001b[43m,\u001b[49m\n\u001b[1;32m     81\u001b[0m \u001b[43m    \u001b[49m\u001b[43mimpose_assump\u001b[49m\u001b[38;5;241;43m=\u001b[39;49m\u001b[43mimpose_assump\u001b[49m\u001b[43m,\u001b[49m\n\u001b[1;32m     82\u001b[0m \u001b[43m\u001b[49m\u001b[43m)\u001b[49m\n",
      "File \u001b[0;32m~/Desktop/partial_kgfn/partial_kgfn/run_one_trial.py:371\u001b[0m, in \u001b[0;36mrun_one_trial\u001b[0;34m(problem_name, problem, algo, trial, metrics, n_init_evals, budget, options, objective, force_restart, impose_assump, noisy)\u001b[0m\n\u001b[1;32m    362\u001b[0m     logger\u001b[38;5;241m.\u001b[39minfo(\n\u001b[1;32m    363\u001b[0m         \u001b[38;5;124mf\u001b[39m\u001b[38;5;124m\"\u001b[39m\u001b[38;5;124mGenerate X_fantansies_candidate takes \u001b[39m\u001b[38;5;132;01m{\u001b[39;00mtime\u001b[38;5;241m.\u001b[39mtime()\u001b[38;5;241m-\u001b[39mt0_fan_can\u001b[38;5;132;01m:\u001b[39;00m\u001b[38;5;124m.4f\u001b[39m\u001b[38;5;132;01m}\u001b[39;00m\u001b[38;5;124m seconds\u001b[39m\u001b[38;5;124m\"\u001b[39m\n\u001b[1;32m    364\u001b[0m     )\n\u001b[1;32m    365\u001b[0m     \u001b[38;5;66;03m# Get suggested point\u001b[39;00m\n\u001b[1;32m    366\u001b[0m     (\n\u001b[1;32m    367\u001b[0m         new_x,\n\u001b[1;32m    368\u001b[0m         new_node,\n\u001b[1;32m    369\u001b[0m         node_best_acq_vals,\n\u001b[1;32m    370\u001b[0m         node_candidate,\n\u001b[0;32m--> 371\u001b[0m     ) \u001b[38;5;241m=\u001b[39m \u001b[43mget_suggested_node_and_input\u001b[49m\u001b[43m(\u001b[49m\n\u001b[1;32m    372\u001b[0m \u001b[43m        \u001b[49m\u001b[43malgo\u001b[49m\u001b[38;5;241;43m=\u001b[39;49m\u001b[43malgo\u001b[49m\u001b[43m,\u001b[49m\n\u001b[1;32m    373\u001b[0m \u001b[43m        \u001b[49m\u001b[43mproblem\u001b[49m\u001b[38;5;241;43m=\u001b[39;49m\u001b[43mproblem\u001b[49m\u001b[43m,\u001b[49m\n\u001b[1;32m    374\u001b[0m \u001b[43m        \u001b[49m\u001b[43mmodel\u001b[49m\u001b[38;5;241;43m=\u001b[39;49m\u001b[43mmodel\u001b[49m\u001b[43m,\u001b[49m\n\u001b[1;32m    375\u001b[0m \u001b[43m        \u001b[49m\u001b[43mbest_obs_val\u001b[49m\u001b[38;5;241;43m=\u001b[39;49m\u001b[43mbest_obs_vals\u001b[49m\u001b[43m[\u001b[49m\u001b[38;5;241;43m-\u001b[39;49m\u001b[38;5;241;43m1\u001b[39;49m\u001b[43m]\u001b[49m\u001b[43m,\u001b[49m\n\u001b[1;32m    376\u001b[0m \u001b[43m        \u001b[49m\u001b[43mbest_post_mean\u001b[49m\u001b[38;5;241;43m=\u001b[39;49m\u001b[43mbest_post_means\u001b[49m\u001b[43m[\u001b[49m\u001b[38;5;241;43m-\u001b[39;49m\u001b[38;5;241;43m1\u001b[39;49m\u001b[43m]\u001b[49m\u001b[43m,\u001b[49m\n\u001b[1;32m    377\u001b[0m \u001b[43m        \u001b[49m\u001b[43mbest_design\u001b[49m\u001b[38;5;241;43m=\u001b[39;49m\u001b[43mbest_design\u001b[49m\u001b[43m,\u001b[49m\n\u001b[1;32m    378\u001b[0m \u001b[43m        \u001b[49m\u001b[43mobjective\u001b[49m\u001b[38;5;241;43m=\u001b[39;49m\u001b[43mobjective\u001b[49m\u001b[43m,\u001b[49m\n\u001b[1;32m    379\u001b[0m \u001b[43m        \u001b[49m\u001b[43mremaining_budget\u001b[49m\u001b[38;5;241;43m=\u001b[39;49m\u001b[43mremaining_budget\u001b[49m\u001b[43m,\u001b[49m\n\u001b[1;32m    380\u001b[0m \u001b[43m        \u001b[49m\u001b[43mimpose_assump\u001b[49m\u001b[38;5;241;43m=\u001b[39;49m\u001b[43mimpose_assump\u001b[49m\u001b[43m,\u001b[49m\n\u001b[1;32m    381\u001b[0m \u001b[43m        \u001b[49m\u001b[43mX_fantasies_candidates\u001b[49m\u001b[38;5;241;43m=\u001b[39;49m\u001b[43mX_fantasies_candidates\u001b[49m\u001b[43m,\u001b[49m\n\u001b[1;32m    382\u001b[0m \u001b[43m    \u001b[49m\u001b[43m)\u001b[49m\n\u001b[1;32m    383\u001b[0m \u001b[38;5;28;01melse\u001b[39;00m:\n\u001b[1;32m    384\u001b[0m     (\n\u001b[1;32m    385\u001b[0m         new_x,\n\u001b[1;32m    386\u001b[0m         new_node,\n\u001b[0;32m   (...)\u001b[0m\n\u001b[1;32m    398\u001b[0m         impose_assump\u001b[38;5;241m=\u001b[39mimpose_assump,\n\u001b[1;32m    399\u001b[0m     )\n",
      "File \u001b[0;32m~/Desktop/partial_kgfn/partial_kgfn/run_one_trial.py:819\u001b[0m, in \u001b[0;36mget_suggested_node_and_input\u001b[0;34m(algo, remaining_budget, problem, model, best_obs_val, best_post_mean, best_design, objective, impose_assump, X_fantasies_candidates)\u001b[0m\n\u001b[1;32m    808\u001b[0m acq_function \u001b[38;5;241m=\u001b[39m qExpectedImprovement(\n\u001b[1;32m    809\u001b[0m     model\u001b[38;5;241m=\u001b[39mmodel,\n\u001b[1;32m    810\u001b[0m     best_f\u001b[38;5;241m=\u001b[39mbest_post_mean,\n\u001b[1;32m    811\u001b[0m     sampler\u001b[38;5;241m=\u001b[39mqmc_sampler,\n\u001b[1;32m    812\u001b[0m     objective\u001b[38;5;241m=\u001b[39mobjective,\n\u001b[1;32m    813\u001b[0m )\n\u001b[1;32m    814\u001b[0m posterior_mean_function \u001b[38;5;241m=\u001b[39m PosteriorMean(\n\u001b[1;32m    815\u001b[0m     model\u001b[38;5;241m=\u001b[39mmodel,\n\u001b[1;32m    816\u001b[0m     sampler\u001b[38;5;241m=\u001b[39mqmc_sampler,\n\u001b[1;32m    817\u001b[0m     objective\u001b[38;5;241m=\u001b[39mobjective,\n\u001b[1;32m    818\u001b[0m )\n\u001b[0;32m--> 819\u001b[0m new_x, _ \u001b[38;5;241m=\u001b[39m \u001b[43moptimize_acqf_and_get_suggested_point\u001b[49m\u001b[43m(\u001b[49m\n\u001b[1;32m    820\u001b[0m \u001b[43m    \u001b[49m\u001b[43macq_func\u001b[49m\u001b[38;5;241;43m=\u001b[39;49m\u001b[43macq_function\u001b[49m\u001b[43m,\u001b[49m\n\u001b[1;32m    821\u001b[0m \u001b[43m    \u001b[49m\u001b[43mbounds\u001b[49m\u001b[38;5;241;43m=\u001b[39;49m\u001b[43mproblem\u001b[49m\u001b[38;5;241;43m.\u001b[39;49m\u001b[43mbounds\u001b[49m\u001b[43m,\u001b[49m\n\u001b[1;32m    822\u001b[0m \u001b[43m    \u001b[49m\u001b[43mbatch_size\u001b[49m\u001b[38;5;241;43m=\u001b[39;49m\u001b[38;5;241;43m1\u001b[39;49m\u001b[43m,\u001b[49m\n\u001b[1;32m    823\u001b[0m \u001b[43m    \u001b[49m\u001b[43mposterior_mean\u001b[49m\u001b[38;5;241;43m=\u001b[39;49m\u001b[43mposterior_mean_function\u001b[49m\u001b[43m,\u001b[49m\n\u001b[1;32m    824\u001b[0m \u001b[43m\u001b[49m\u001b[43m)\u001b[49m\n\u001b[1;32m    825\u001b[0m logger\u001b[38;5;241m.\u001b[39minfo(\n\u001b[1;32m    826\u001b[0m     \u001b[38;5;124mf\u001b[39m\u001b[38;5;124m\"\u001b[39m\u001b[38;5;124mOptimization EIFN to get a network candidate took \u001b[39m\u001b[38;5;132;01m{\u001b[39;00mtime\u001b[38;5;241m.\u001b[39mtime()\u001b[38;5;241m-\u001b[39mt0_EIFN\u001b[38;5;132;01m:\u001b[39;00m\u001b[38;5;124m.4f\u001b[39m\u001b[38;5;132;01m}\u001b[39;00m\u001b[38;5;124m seconds\u001b[39m\u001b[38;5;124m\"\u001b[39m\n\u001b[1;32m    827\u001b[0m )\n\u001b[1;32m    828\u001b[0m logger\u001b[38;5;241m.\u001b[39minfo(\u001b[38;5;124mf\u001b[39m\u001b[38;5;124m\"\u001b[39m\u001b[38;5;124mEIFN candidate \u001b[39m\u001b[38;5;132;01m{\u001b[39;00mnew_x\u001b[38;5;132;01m}\u001b[39;00m\u001b[38;5;124m\"\u001b[39m)\n",
      "File \u001b[0;32m~/Desktop/partial_kgfn/partial_kgfn/utils/EIFN_optimize_acqf.py:69\u001b[0m, in \u001b[0;36moptimize_acqf_and_get_suggested_point\u001b[0;34m(acq_func, bounds, batch_size, posterior_mean)\u001b[0m\n\u001b[1;32m     64\u001b[0m     batch_initial_conditions \u001b[38;5;241m=\u001b[39m torch\u001b[38;5;241m.\u001b[39mcat(\n\u001b[1;32m     65\u001b[0m         [batch_initial_conditions, baseline_candidate], \u001b[38;5;241m0\u001b[39m\n\u001b[1;32m     66\u001b[0m     )\n\u001b[1;32m     67\u001b[0m     num_restarts \u001b[38;5;241m+\u001b[39m\u001b[38;5;241m=\u001b[39m \u001b[38;5;241m1\u001b[39m\n\u001b[0;32m---> 69\u001b[0m candidate, acq_value \u001b[38;5;241m=\u001b[39m \u001b[43moptimize_acqf\u001b[49m\u001b[43m(\u001b[49m\n\u001b[1;32m     70\u001b[0m \u001b[43m    \u001b[49m\u001b[43macq_function\u001b[49m\u001b[38;5;241;43m=\u001b[39;49m\u001b[43macq_func\u001b[49m\u001b[43m,\u001b[49m\n\u001b[1;32m     71\u001b[0m \u001b[43m    \u001b[49m\u001b[43mbounds\u001b[49m\u001b[38;5;241;43m=\u001b[39;49m\u001b[43mbounds\u001b[49m\u001b[43m,\u001b[49m\n\u001b[1;32m     72\u001b[0m \u001b[43m    \u001b[49m\u001b[43mq\u001b[49m\u001b[38;5;241;43m=\u001b[39;49m\u001b[43mbatch_size\u001b[49m\u001b[43m,\u001b[49m\n\u001b[1;32m     73\u001b[0m \u001b[43m    \u001b[49m\u001b[43mnum_restarts\u001b[49m\u001b[38;5;241;43m=\u001b[39;49m\u001b[43mnum_restarts\u001b[49m\u001b[43m,\u001b[49m\n\u001b[1;32m     74\u001b[0m \u001b[43m    \u001b[49m\u001b[43mraw_samples\u001b[49m\u001b[38;5;241;43m=\u001b[39;49m\u001b[43mraw_samples\u001b[49m\u001b[43m,\u001b[49m\n\u001b[1;32m     75\u001b[0m \u001b[43m    \u001b[49m\u001b[43mbatch_initial_conditions\u001b[49m\u001b[38;5;241;43m=\u001b[39;49m\u001b[43mbatch_initial_conditions\u001b[49m\u001b[43m,\u001b[49m\n\u001b[1;32m     76\u001b[0m \u001b[43m    \u001b[49m\u001b[43moptions\u001b[49m\u001b[38;5;241;43m=\u001b[39;49m\u001b[43m{\u001b[49m\u001b[38;5;124;43m\"\u001b[39;49m\u001b[38;5;124;43mbatch_limit\u001b[39;49m\u001b[38;5;124;43m\"\u001b[39;49m\u001b[43m:\u001b[49m\u001b[43m \u001b[49m\u001b[38;5;241;43m2\u001b[39;49m\u001b[43m}\u001b[49m\u001b[43m,\u001b[49m\n\u001b[1;32m     77\u001b[0m \u001b[43m\u001b[49m\u001b[43m)\u001b[49m\n\u001b[1;32m     79\u001b[0m \u001b[38;5;28;01mif\u001b[39;00m baseline_candidate \u001b[38;5;129;01mis\u001b[39;00m \u001b[38;5;129;01mnot\u001b[39;00m \u001b[38;5;28;01mNone\u001b[39;00m:\n\u001b[1;32m     80\u001b[0m     baseline_acq_value \u001b[38;5;241m=\u001b[39m acq_func\u001b[38;5;241m.\u001b[39mforward(baseline_candidate)[\u001b[38;5;241m0\u001b[39m]\u001b[38;5;241m.\u001b[39mdetach()\n",
      "File \u001b[0;32m/opt/anaconda3/envs/pKGFN/lib/python3.9/site-packages/botorch/optim/optimize.py:541\u001b[0m, in \u001b[0;36moptimize_acqf\u001b[0;34m(acq_function, bounds, q, num_restarts, raw_samples, options, inequality_constraints, equality_constraints, nonlinear_inequality_constraints, fixed_features, post_processing_func, batch_initial_conditions, return_best_only, gen_candidates, sequential, ic_generator, timeout_sec, return_full_tree, retry_on_optimization_warning, **ic_gen_kwargs)\u001b[0m\n\u001b[1;32m    518\u001b[0m     gen_candidates \u001b[38;5;241m=\u001b[39m gen_candidates_scipy\n\u001b[1;32m    519\u001b[0m opt_acqf_inputs \u001b[38;5;241m=\u001b[39m OptimizeAcqfInputs(\n\u001b[1;32m    520\u001b[0m     acq_function\u001b[38;5;241m=\u001b[39macq_function,\n\u001b[1;32m    521\u001b[0m     bounds\u001b[38;5;241m=\u001b[39mbounds,\n\u001b[0;32m   (...)\u001b[0m\n\u001b[1;32m    539\u001b[0m     ic_gen_kwargs\u001b[38;5;241m=\u001b[39mic_gen_kwargs,\n\u001b[1;32m    540\u001b[0m )\n\u001b[0;32m--> 541\u001b[0m \u001b[38;5;28;01mreturn\u001b[39;00m \u001b[43m_optimize_acqf\u001b[49m\u001b[43m(\u001b[49m\u001b[43mopt_acqf_inputs\u001b[49m\u001b[43m)\u001b[49m\n",
      "File \u001b[0;32m/opt/anaconda3/envs/pKGFN/lib/python3.9/site-packages/botorch/optim/optimize.py:570\u001b[0m, in \u001b[0;36m_optimize_acqf\u001b[0;34m(opt_inputs)\u001b[0m\n\u001b[1;32m    563\u001b[0m     \u001b[38;5;28;01mreturn\u001b[39;00m _optimize_acqf_sequential_q(\n\u001b[1;32m    564\u001b[0m         opt_inputs\u001b[38;5;241m=\u001b[39mopt_inputs,\n\u001b[1;32m    565\u001b[0m         timeout_sec\u001b[38;5;241m=\u001b[39mtimeout_sec,\n\u001b[1;32m    566\u001b[0m         start_time\u001b[38;5;241m=\u001b[39mstart_time,\n\u001b[1;32m    567\u001b[0m     )\n\u001b[1;32m    569\u001b[0m \u001b[38;5;66;03m# Batch optimization (including the case q=1)\u001b[39;00m\n\u001b[0;32m--> 570\u001b[0m \u001b[38;5;28;01mreturn\u001b[39;00m \u001b[43m_optimize_acqf_batch\u001b[49m\u001b[43m(\u001b[49m\n\u001b[1;32m    571\u001b[0m \u001b[43m    \u001b[49m\u001b[43mopt_inputs\u001b[49m\u001b[38;5;241;43m=\u001b[39;49m\u001b[43mopt_inputs\u001b[49m\u001b[43m,\u001b[49m\u001b[43m \u001b[49m\u001b[43mstart_time\u001b[49m\u001b[38;5;241;43m=\u001b[39;49m\u001b[43mstart_time\u001b[49m\u001b[43m,\u001b[49m\u001b[43m \u001b[49m\u001b[43mtimeout_sec\u001b[49m\u001b[38;5;241;43m=\u001b[39;49m\u001b[43mtimeout_sec\u001b[49m\n\u001b[1;32m    572\u001b[0m \u001b[43m\u001b[49m\u001b[43m)\u001b[49m\n",
      "File \u001b[0;32m/opt/anaconda3/envs/pKGFN/lib/python3.9/site-packages/botorch/optim/optimize.py:348\u001b[0m, in \u001b[0;36m_optimize_acqf_batch\u001b[0;34m(opt_inputs, start_time, timeout_sec)\u001b[0m\n\u001b[1;32m    345\u001b[0m         batch_acq_values \u001b[38;5;241m=\u001b[39m torch\u001b[38;5;241m.\u001b[39mcat(batch_acq_values_list)\u001b[38;5;241m.\u001b[39mflatten()\n\u001b[1;32m    346\u001b[0m     \u001b[38;5;28;01mreturn\u001b[39;00m batch_candidates, batch_acq_values, opt_warnings\n\u001b[0;32m--> 348\u001b[0m batch_candidates, batch_acq_values, ws \u001b[38;5;241m=\u001b[39m \u001b[43m_optimize_batch_candidates\u001b[49m\u001b[43m(\u001b[49m\u001b[43mtimeout_sec\u001b[49m\u001b[43m)\u001b[49m\n\u001b[1;32m    350\u001b[0m optimization_warning_raised \u001b[38;5;241m=\u001b[39m \u001b[38;5;28many\u001b[39m(\n\u001b[1;32m    351\u001b[0m     (\u001b[38;5;28missubclass\u001b[39m(w\u001b[38;5;241m.\u001b[39mcategory, OptimizationWarning) \u001b[38;5;28;01mfor\u001b[39;00m w \u001b[38;5;129;01min\u001b[39;00m ws)\n\u001b[1;32m    352\u001b[0m )\n\u001b[1;32m    353\u001b[0m \u001b[38;5;28;01mif\u001b[39;00m optimization_warning_raised \u001b[38;5;129;01mand\u001b[39;00m opt_inputs\u001b[38;5;241m.\u001b[39mretry_on_optimization_warning:\n",
      "File \u001b[0;32m/opt/anaconda3/envs/pKGFN/lib/python3.9/site-packages/botorch/optim/optimize.py:332\u001b[0m, in \u001b[0;36m_optimize_acqf_batch.<locals>._optimize_batch_candidates\u001b[0;34m(timeout_sec)\u001b[0m\n\u001b[1;32m    327\u001b[0m \u001b[38;5;28;01mwith\u001b[39;00m warnings\u001b[38;5;241m.\u001b[39mcatch_warnings(record\u001b[38;5;241m=\u001b[39m\u001b[38;5;28;01mTrue\u001b[39;00m) \u001b[38;5;28;01mas\u001b[39;00m ws:\n\u001b[1;32m    328\u001b[0m     warnings\u001b[38;5;241m.\u001b[39msimplefilter(\u001b[38;5;124m\"\u001b[39m\u001b[38;5;124malways\u001b[39m\u001b[38;5;124m\"\u001b[39m, category\u001b[38;5;241m=\u001b[39mOptimizationWarning)\n\u001b[1;32m    329\u001b[0m     (\n\u001b[1;32m    330\u001b[0m         batch_candidates_curr,\n\u001b[1;32m    331\u001b[0m         batch_acq_values_curr,\n\u001b[0;32m--> 332\u001b[0m     ) \u001b[38;5;241m=\u001b[39m \u001b[43mopt_inputs\u001b[49m\u001b[38;5;241;43m.\u001b[39;49m\u001b[43mgen_candidates\u001b[49m\u001b[43m(\u001b[49m\n\u001b[1;32m    333\u001b[0m \u001b[43m        \u001b[49m\u001b[43mbatched_ics_\u001b[49m\u001b[43m,\u001b[49m\u001b[43m \u001b[49m\u001b[43mopt_inputs\u001b[49m\u001b[38;5;241;43m.\u001b[39;49m\u001b[43macq_function\u001b[49m\u001b[43m,\u001b[49m\u001b[43m \u001b[49m\u001b[38;5;241;43m*\u001b[39;49m\u001b[38;5;241;43m*\u001b[39;49m\u001b[43mfiltered_gen_kwargs\u001b[49m\n\u001b[1;32m    334\u001b[0m \u001b[43m    \u001b[49m\u001b[43m)\u001b[49m\n\u001b[1;32m    335\u001b[0m opt_warnings \u001b[38;5;241m+\u001b[39m\u001b[38;5;241m=\u001b[39m ws\n\u001b[1;32m    336\u001b[0m batch_candidates_list\u001b[38;5;241m.\u001b[39mappend(batch_candidates_curr)\n",
      "File \u001b[0;32m/opt/anaconda3/envs/pKGFN/lib/python3.9/site-packages/botorch/generation/gen.py:232\u001b[0m, in \u001b[0;36mgen_candidates_scipy\u001b[0;34m(initial_conditions, acquisition_function, lower_bounds, upper_bounds, inequality_constraints, equality_constraints, nonlinear_inequality_constraints, options, fixed_features, timeout_sec)\u001b[0m\n\u001b[1;32m    229\u001b[0m \u001b[38;5;28;01mdef\u001b[39;00m\u001b[38;5;250m \u001b[39m\u001b[38;5;21mf\u001b[39m(x):\n\u001b[1;32m    230\u001b[0m     \u001b[38;5;28;01mreturn\u001b[39;00m \u001b[38;5;241m-\u001b[39macquisition_function(x)\n\u001b[0;32m--> 232\u001b[0m res \u001b[38;5;241m=\u001b[39m \u001b[43mminimize_with_timeout\u001b[49m\u001b[43m(\u001b[49m\n\u001b[1;32m    233\u001b[0m \u001b[43m    \u001b[49m\u001b[43mfun\u001b[49m\u001b[38;5;241;43m=\u001b[39;49m\u001b[43mf_np_wrapper\u001b[49m\u001b[43m,\u001b[49m\n\u001b[1;32m    234\u001b[0m \u001b[43m    \u001b[49m\u001b[43margs\u001b[49m\u001b[38;5;241;43m=\u001b[39;49m\u001b[43m(\u001b[49m\u001b[43mf\u001b[49m\u001b[43m,\u001b[49m\u001b[43m)\u001b[49m\u001b[43m,\u001b[49m\n\u001b[1;32m    235\u001b[0m \u001b[43m    \u001b[49m\u001b[43mx0\u001b[49m\u001b[38;5;241;43m=\u001b[39;49m\u001b[43mx0\u001b[49m\u001b[43m,\u001b[49m\n\u001b[1;32m    236\u001b[0m \u001b[43m    \u001b[49m\u001b[43mmethod\u001b[49m\u001b[38;5;241;43m=\u001b[39;49m\u001b[43moptions\u001b[49m\u001b[38;5;241;43m.\u001b[39;49m\u001b[43mget\u001b[49m\u001b[43m(\u001b[49m\u001b[38;5;124;43m\"\u001b[39;49m\u001b[38;5;124;43mmethod\u001b[39;49m\u001b[38;5;124;43m\"\u001b[39;49m\u001b[43m,\u001b[49m\u001b[43m \u001b[49m\u001b[38;5;124;43m\"\u001b[39;49m\u001b[38;5;124;43mSLSQP\u001b[39;49m\u001b[38;5;124;43m\"\u001b[39;49m\u001b[43m \u001b[49m\u001b[38;5;28;43;01mif\u001b[39;49;00m\u001b[43m \u001b[49m\u001b[43mconstraints\u001b[49m\u001b[43m \u001b[49m\u001b[38;5;28;43;01melse\u001b[39;49;00m\u001b[43m \u001b[49m\u001b[38;5;124;43m\"\u001b[39;49m\u001b[38;5;124;43mL-BFGS-B\u001b[39;49m\u001b[38;5;124;43m\"\u001b[39;49m\u001b[43m)\u001b[49m\u001b[43m,\u001b[49m\n\u001b[1;32m    237\u001b[0m \u001b[43m    \u001b[49m\u001b[43mjac\u001b[49m\u001b[38;5;241;43m=\u001b[39;49m\u001b[43mwith_grad\u001b[49m\u001b[43m,\u001b[49m\n\u001b[1;32m    238\u001b[0m \u001b[43m    \u001b[49m\u001b[43mbounds\u001b[49m\u001b[38;5;241;43m=\u001b[39;49m\u001b[43mbounds\u001b[49m\u001b[43m,\u001b[49m\n\u001b[1;32m    239\u001b[0m \u001b[43m    \u001b[49m\u001b[43mconstraints\u001b[49m\u001b[38;5;241;43m=\u001b[39;49m\u001b[43mconstraints\u001b[49m\u001b[43m,\u001b[49m\n\u001b[1;32m    240\u001b[0m \u001b[43m    \u001b[49m\u001b[43mcallback\u001b[49m\u001b[38;5;241;43m=\u001b[39;49m\u001b[43moptions\u001b[49m\u001b[38;5;241;43m.\u001b[39;49m\u001b[43mget\u001b[49m\u001b[43m(\u001b[49m\u001b[38;5;124;43m\"\u001b[39;49m\u001b[38;5;124;43mcallback\u001b[39;49m\u001b[38;5;124;43m\"\u001b[39;49m\u001b[43m,\u001b[49m\u001b[43m \u001b[49m\u001b[38;5;28;43;01mNone\u001b[39;49;00m\u001b[43m)\u001b[49m\u001b[43m,\u001b[49m\n\u001b[1;32m    241\u001b[0m \u001b[43m    \u001b[49m\u001b[43moptions\u001b[49m\u001b[38;5;241;43m=\u001b[39;49m\u001b[43m{\u001b[49m\n\u001b[1;32m    242\u001b[0m \u001b[43m        \u001b[49m\u001b[43mk\u001b[49m\u001b[43m:\u001b[49m\u001b[43m \u001b[49m\u001b[43mv\u001b[49m\n\u001b[1;32m    243\u001b[0m \u001b[43m        \u001b[49m\u001b[38;5;28;43;01mfor\u001b[39;49;00m\u001b[43m \u001b[49m\u001b[43mk\u001b[49m\u001b[43m,\u001b[49m\u001b[43m \u001b[49m\u001b[43mv\u001b[49m\u001b[43m \u001b[49m\u001b[38;5;129;43;01min\u001b[39;49;00m\u001b[43m \u001b[49m\u001b[43moptions\u001b[49m\u001b[38;5;241;43m.\u001b[39;49m\u001b[43mitems\u001b[49m\u001b[43m(\u001b[49m\u001b[43m)\u001b[49m\n\u001b[1;32m    244\u001b[0m \u001b[43m        \u001b[49m\u001b[38;5;28;43;01mif\u001b[39;49;00m\u001b[43m \u001b[49m\u001b[43mk\u001b[49m\u001b[43m \u001b[49m\u001b[38;5;129;43;01mnot\u001b[39;49;00m\u001b[43m \u001b[49m\u001b[38;5;129;43;01min\u001b[39;49;00m\u001b[43m \u001b[49m\u001b[43m[\u001b[49m\u001b[38;5;124;43m\"\u001b[39;49m\u001b[38;5;124;43mmethod\u001b[39;49m\u001b[38;5;124;43m\"\u001b[39;49m\u001b[43m,\u001b[49m\u001b[43m \u001b[49m\u001b[38;5;124;43m\"\u001b[39;49m\u001b[38;5;124;43mcallback\u001b[39;49m\u001b[38;5;124;43m\"\u001b[39;49m\u001b[43m,\u001b[49m\u001b[43m \u001b[49m\u001b[38;5;124;43m\"\u001b[39;49m\u001b[38;5;124;43mwith_grad\u001b[39;49m\u001b[38;5;124;43m\"\u001b[39;49m\u001b[43m]\u001b[49m\n\u001b[1;32m    245\u001b[0m \u001b[43m    \u001b[49m\u001b[43m}\u001b[49m\u001b[43m,\u001b[49m\n\u001b[1;32m    246\u001b[0m \u001b[43m    \u001b[49m\u001b[43mtimeout_sec\u001b[49m\u001b[38;5;241;43m=\u001b[39;49m\u001b[43mtimeout_sec\u001b[49m\u001b[43m,\u001b[49m\n\u001b[1;32m    247\u001b[0m \u001b[43m\u001b[49m\u001b[43m)\u001b[49m\n\u001b[1;32m    248\u001b[0m _process_scipy_result(res\u001b[38;5;241m=\u001b[39mres, options\u001b[38;5;241m=\u001b[39moptions)\n\u001b[1;32m    250\u001b[0m candidates \u001b[38;5;241m=\u001b[39m fix_features(\n\u001b[1;32m    251\u001b[0m     X\u001b[38;5;241m=\u001b[39mtorch\u001b[38;5;241m.\u001b[39mfrom_numpy(res\u001b[38;5;241m.\u001b[39mx)\u001b[38;5;241m.\u001b[39mto(initial_conditions)\u001b[38;5;241m.\u001b[39mreshape(shapeX),\n\u001b[1;32m    252\u001b[0m     fixed_features\u001b[38;5;241m=\u001b[39mfixed_features,\n\u001b[1;32m    253\u001b[0m )\n",
      "File \u001b[0;32m/opt/anaconda3/envs/pKGFN/lib/python3.9/site-packages/botorch/optim/utils/timeout.py:80\u001b[0m, in \u001b[0;36mminimize_with_timeout\u001b[0;34m(fun, x0, args, method, jac, hess, hessp, bounds, constraints, tol, callback, options, timeout_sec)\u001b[0m\n\u001b[1;32m     77\u001b[0m     wrapped_callback \u001b[38;5;241m=\u001b[39m callback\n\u001b[1;32m     79\u001b[0m \u001b[38;5;28;01mtry\u001b[39;00m:\n\u001b[0;32m---> 80\u001b[0m     \u001b[38;5;28;01mreturn\u001b[39;00m \u001b[43moptimize\u001b[49m\u001b[38;5;241;43m.\u001b[39;49m\u001b[43mminimize\u001b[49m\u001b[43m(\u001b[49m\n\u001b[1;32m     81\u001b[0m \u001b[43m        \u001b[49m\u001b[43mfun\u001b[49m\u001b[38;5;241;43m=\u001b[39;49m\u001b[43mfun\u001b[49m\u001b[43m,\u001b[49m\n\u001b[1;32m     82\u001b[0m \u001b[43m        \u001b[49m\u001b[43mx0\u001b[49m\u001b[38;5;241;43m=\u001b[39;49m\u001b[43mx0\u001b[49m\u001b[43m,\u001b[49m\n\u001b[1;32m     83\u001b[0m \u001b[43m        \u001b[49m\u001b[43margs\u001b[49m\u001b[38;5;241;43m=\u001b[39;49m\u001b[43margs\u001b[49m\u001b[43m,\u001b[49m\n\u001b[1;32m     84\u001b[0m \u001b[43m        \u001b[49m\u001b[43mmethod\u001b[49m\u001b[38;5;241;43m=\u001b[39;49m\u001b[43mmethod\u001b[49m\u001b[43m,\u001b[49m\n\u001b[1;32m     85\u001b[0m \u001b[43m        \u001b[49m\u001b[43mjac\u001b[49m\u001b[38;5;241;43m=\u001b[39;49m\u001b[43mjac\u001b[49m\u001b[43m,\u001b[49m\n\u001b[1;32m     86\u001b[0m \u001b[43m        \u001b[49m\u001b[43mhess\u001b[49m\u001b[38;5;241;43m=\u001b[39;49m\u001b[43mhess\u001b[49m\u001b[43m,\u001b[49m\n\u001b[1;32m     87\u001b[0m \u001b[43m        \u001b[49m\u001b[43mhessp\u001b[49m\u001b[38;5;241;43m=\u001b[39;49m\u001b[43mhessp\u001b[49m\u001b[43m,\u001b[49m\n\u001b[1;32m     88\u001b[0m \u001b[43m        \u001b[49m\u001b[43mbounds\u001b[49m\u001b[38;5;241;43m=\u001b[39;49m\u001b[43mbounds\u001b[49m\u001b[43m,\u001b[49m\n\u001b[1;32m     89\u001b[0m \u001b[43m        \u001b[49m\u001b[43mconstraints\u001b[49m\u001b[38;5;241;43m=\u001b[39;49m\u001b[43mconstraints\u001b[49m\u001b[43m,\u001b[49m\n\u001b[1;32m     90\u001b[0m \u001b[43m        \u001b[49m\u001b[43mtol\u001b[49m\u001b[38;5;241;43m=\u001b[39;49m\u001b[43mtol\u001b[49m\u001b[43m,\u001b[49m\n\u001b[1;32m     91\u001b[0m \u001b[43m        \u001b[49m\u001b[43mcallback\u001b[49m\u001b[38;5;241;43m=\u001b[39;49m\u001b[43mwrapped_callback\u001b[49m\u001b[43m,\u001b[49m\n\u001b[1;32m     92\u001b[0m \u001b[43m        \u001b[49m\u001b[43moptions\u001b[49m\u001b[38;5;241;43m=\u001b[39;49m\u001b[43moptions\u001b[49m\u001b[43m,\u001b[49m\n\u001b[1;32m     93\u001b[0m \u001b[43m    \u001b[49m\u001b[43m)\u001b[49m\n\u001b[1;32m     94\u001b[0m \u001b[38;5;28;01mexcept\u001b[39;00m OptimizationTimeoutError \u001b[38;5;28;01mas\u001b[39;00m e:\n\u001b[1;32m     95\u001b[0m     msg \u001b[38;5;241m=\u001b[39m \u001b[38;5;124mf\u001b[39m\u001b[38;5;124m\"\u001b[39m\u001b[38;5;124mOptimization timed out after \u001b[39m\u001b[38;5;132;01m{\u001b[39;00me\u001b[38;5;241m.\u001b[39mruntime\u001b[38;5;132;01m}\u001b[39;00m\u001b[38;5;124m seconds.\u001b[39m\u001b[38;5;124m\"\u001b[39m\n",
      "File \u001b[0;32m/opt/anaconda3/envs/pKGFN/lib/python3.9/site-packages/scipy/optimize/_minimize.py:696\u001b[0m, in \u001b[0;36mminimize\u001b[0;34m(fun, x0, args, method, jac, hess, hessp, bounds, constraints, tol, callback, options)\u001b[0m\n\u001b[1;32m    693\u001b[0m     res \u001b[38;5;241m=\u001b[39m _minimize_newtoncg(fun, x0, args, jac, hess, hessp, callback,\n\u001b[1;32m    694\u001b[0m                              \u001b[38;5;241m*\u001b[39m\u001b[38;5;241m*\u001b[39moptions)\n\u001b[1;32m    695\u001b[0m \u001b[38;5;28;01melif\u001b[39;00m meth \u001b[38;5;241m==\u001b[39m \u001b[38;5;124m'\u001b[39m\u001b[38;5;124ml-bfgs-b\u001b[39m\u001b[38;5;124m'\u001b[39m:\n\u001b[0;32m--> 696\u001b[0m     res \u001b[38;5;241m=\u001b[39m \u001b[43m_minimize_lbfgsb\u001b[49m\u001b[43m(\u001b[49m\u001b[43mfun\u001b[49m\u001b[43m,\u001b[49m\u001b[43m \u001b[49m\u001b[43mx0\u001b[49m\u001b[43m,\u001b[49m\u001b[43m \u001b[49m\u001b[43margs\u001b[49m\u001b[43m,\u001b[49m\u001b[43m \u001b[49m\u001b[43mjac\u001b[49m\u001b[43m,\u001b[49m\u001b[43m \u001b[49m\u001b[43mbounds\u001b[49m\u001b[43m,\u001b[49m\n\u001b[1;32m    697\u001b[0m \u001b[43m                           \u001b[49m\u001b[43mcallback\u001b[49m\u001b[38;5;241;43m=\u001b[39;49m\u001b[43mcallback\u001b[49m\u001b[43m,\u001b[49m\u001b[43m \u001b[49m\u001b[38;5;241;43m*\u001b[39;49m\u001b[38;5;241;43m*\u001b[39;49m\u001b[43moptions\u001b[49m\u001b[43m)\u001b[49m\n\u001b[1;32m    698\u001b[0m \u001b[38;5;28;01melif\u001b[39;00m meth \u001b[38;5;241m==\u001b[39m \u001b[38;5;124m'\u001b[39m\u001b[38;5;124mtnc\u001b[39m\u001b[38;5;124m'\u001b[39m:\n\u001b[1;32m    699\u001b[0m     res \u001b[38;5;241m=\u001b[39m _minimize_tnc(fun, x0, args, jac, bounds, callback\u001b[38;5;241m=\u001b[39mcallback,\n\u001b[1;32m    700\u001b[0m                         \u001b[38;5;241m*\u001b[39m\u001b[38;5;241m*\u001b[39moptions)\n",
      "File \u001b[0;32m/opt/anaconda3/envs/pKGFN/lib/python3.9/site-packages/scipy/optimize/_lbfgsb_py.py:359\u001b[0m, in \u001b[0;36m_minimize_lbfgsb\u001b[0;34m(fun, x0, args, jac, bounds, disp, maxcor, ftol, gtol, eps, maxfun, maxiter, iprint, callback, maxls, finite_diff_rel_step, **unknown_options)\u001b[0m\n\u001b[1;32m    353\u001b[0m task_str \u001b[38;5;241m=\u001b[39m task\u001b[38;5;241m.\u001b[39mtobytes()\n\u001b[1;32m    354\u001b[0m \u001b[38;5;28;01mif\u001b[39;00m task_str\u001b[38;5;241m.\u001b[39mstartswith(\u001b[38;5;124mb\u001b[39m\u001b[38;5;124m'\u001b[39m\u001b[38;5;124mFG\u001b[39m\u001b[38;5;124m'\u001b[39m):\n\u001b[1;32m    355\u001b[0m     \u001b[38;5;66;03m# The minimization routine wants f and g at the current x.\u001b[39;00m\n\u001b[1;32m    356\u001b[0m     \u001b[38;5;66;03m# Note that interruptions due to maxfun are postponed\u001b[39;00m\n\u001b[1;32m    357\u001b[0m     \u001b[38;5;66;03m# until the completion of the current minimization iteration.\u001b[39;00m\n\u001b[1;32m    358\u001b[0m     \u001b[38;5;66;03m# Overwrite f and g:\u001b[39;00m\n\u001b[0;32m--> 359\u001b[0m     f, g \u001b[38;5;241m=\u001b[39m \u001b[43mfunc_and_grad\u001b[49m\u001b[43m(\u001b[49m\u001b[43mx\u001b[49m\u001b[43m)\u001b[49m\n\u001b[1;32m    360\u001b[0m \u001b[38;5;28;01melif\u001b[39;00m task_str\u001b[38;5;241m.\u001b[39mstartswith(\u001b[38;5;124mb\u001b[39m\u001b[38;5;124m'\u001b[39m\u001b[38;5;124mNEW_X\u001b[39m\u001b[38;5;124m'\u001b[39m):\n\u001b[1;32m    361\u001b[0m     \u001b[38;5;66;03m# new iteration\u001b[39;00m\n\u001b[1;32m    362\u001b[0m     n_iterations \u001b[38;5;241m+\u001b[39m\u001b[38;5;241m=\u001b[39m \u001b[38;5;241m1\u001b[39m\n",
      "File \u001b[0;32m/opt/anaconda3/envs/pKGFN/lib/python3.9/site-packages/scipy/optimize/_differentiable_functions.py:285\u001b[0m, in \u001b[0;36mScalarFunction.fun_and_grad\u001b[0;34m(self, x)\u001b[0m\n\u001b[1;32m    283\u001b[0m \u001b[38;5;28;01mif\u001b[39;00m \u001b[38;5;129;01mnot\u001b[39;00m np\u001b[38;5;241m.\u001b[39marray_equal(x, \u001b[38;5;28mself\u001b[39m\u001b[38;5;241m.\u001b[39mx):\n\u001b[1;32m    284\u001b[0m     \u001b[38;5;28mself\u001b[39m\u001b[38;5;241m.\u001b[39m_update_x_impl(x)\n\u001b[0;32m--> 285\u001b[0m \u001b[38;5;28;43mself\u001b[39;49m\u001b[38;5;241;43m.\u001b[39;49m\u001b[43m_update_fun\u001b[49m\u001b[43m(\u001b[49m\u001b[43m)\u001b[49m\n\u001b[1;32m    286\u001b[0m \u001b[38;5;28mself\u001b[39m\u001b[38;5;241m.\u001b[39m_update_grad()\n\u001b[1;32m    287\u001b[0m \u001b[38;5;28;01mreturn\u001b[39;00m \u001b[38;5;28mself\u001b[39m\u001b[38;5;241m.\u001b[39mf, \u001b[38;5;28mself\u001b[39m\u001b[38;5;241m.\u001b[39mg\n",
      "File \u001b[0;32m/opt/anaconda3/envs/pKGFN/lib/python3.9/site-packages/scipy/optimize/_differentiable_functions.py:251\u001b[0m, in \u001b[0;36mScalarFunction._update_fun\u001b[0;34m(self)\u001b[0m\n\u001b[1;32m    249\u001b[0m \u001b[38;5;28;01mdef\u001b[39;00m\u001b[38;5;250m \u001b[39m\u001b[38;5;21m_update_fun\u001b[39m(\u001b[38;5;28mself\u001b[39m):\n\u001b[1;32m    250\u001b[0m     \u001b[38;5;28;01mif\u001b[39;00m \u001b[38;5;129;01mnot\u001b[39;00m \u001b[38;5;28mself\u001b[39m\u001b[38;5;241m.\u001b[39mf_updated:\n\u001b[0;32m--> 251\u001b[0m         \u001b[38;5;28;43mself\u001b[39;49m\u001b[38;5;241;43m.\u001b[39;49m\u001b[43m_update_fun_impl\u001b[49m\u001b[43m(\u001b[49m\u001b[43m)\u001b[49m\n\u001b[1;32m    252\u001b[0m         \u001b[38;5;28mself\u001b[39m\u001b[38;5;241m.\u001b[39mf_updated \u001b[38;5;241m=\u001b[39m \u001b[38;5;28;01mTrue\u001b[39;00m\n",
      "File \u001b[0;32m/opt/anaconda3/envs/pKGFN/lib/python3.9/site-packages/scipy/optimize/_differentiable_functions.py:155\u001b[0m, in \u001b[0;36mScalarFunction.__init__.<locals>.update_fun\u001b[0;34m()\u001b[0m\n\u001b[1;32m    154\u001b[0m \u001b[38;5;28;01mdef\u001b[39;00m\u001b[38;5;250m \u001b[39m\u001b[38;5;21mupdate_fun\u001b[39m():\n\u001b[0;32m--> 155\u001b[0m     \u001b[38;5;28mself\u001b[39m\u001b[38;5;241m.\u001b[39mf \u001b[38;5;241m=\u001b[39m \u001b[43mfun_wrapped\u001b[49m\u001b[43m(\u001b[49m\u001b[38;5;28;43mself\u001b[39;49m\u001b[38;5;241;43m.\u001b[39;49m\u001b[43mx\u001b[49m\u001b[43m)\u001b[49m\n",
      "File \u001b[0;32m/opt/anaconda3/envs/pKGFN/lib/python3.9/site-packages/scipy/optimize/_differentiable_functions.py:137\u001b[0m, in \u001b[0;36mScalarFunction.__init__.<locals>.fun_wrapped\u001b[0;34m(x)\u001b[0m\n\u001b[1;32m    133\u001b[0m \u001b[38;5;28mself\u001b[39m\u001b[38;5;241m.\u001b[39mnfev \u001b[38;5;241m+\u001b[39m\u001b[38;5;241m=\u001b[39m \u001b[38;5;241m1\u001b[39m\n\u001b[1;32m    134\u001b[0m \u001b[38;5;66;03m# Send a copy because the user may overwrite it.\u001b[39;00m\n\u001b[1;32m    135\u001b[0m \u001b[38;5;66;03m# Overwriting results in undefined behaviour because\u001b[39;00m\n\u001b[1;32m    136\u001b[0m \u001b[38;5;66;03m# fun(self.x) will change self.x, with the two no longer linked.\u001b[39;00m\n\u001b[0;32m--> 137\u001b[0m fx \u001b[38;5;241m=\u001b[39m \u001b[43mfun\u001b[49m\u001b[43m(\u001b[49m\u001b[43mnp\u001b[49m\u001b[38;5;241;43m.\u001b[39;49m\u001b[43mcopy\u001b[49m\u001b[43m(\u001b[49m\u001b[43mx\u001b[49m\u001b[43m)\u001b[49m\u001b[43m,\u001b[49m\u001b[43m \u001b[49m\u001b[38;5;241;43m*\u001b[39;49m\u001b[43margs\u001b[49m\u001b[43m)\u001b[49m\n\u001b[1;32m    138\u001b[0m \u001b[38;5;66;03m# Make sure the function returns a true scalar\u001b[39;00m\n\u001b[1;32m    139\u001b[0m \u001b[38;5;28;01mif\u001b[39;00m \u001b[38;5;129;01mnot\u001b[39;00m np\u001b[38;5;241m.\u001b[39misscalar(fx):\n",
      "File \u001b[0;32m/opt/anaconda3/envs/pKGFN/lib/python3.9/site-packages/scipy/optimize/_optimize.py:76\u001b[0m, in \u001b[0;36mMemoizeJac.__call__\u001b[0;34m(self, x, *args)\u001b[0m\n\u001b[1;32m     74\u001b[0m \u001b[38;5;28;01mdef\u001b[39;00m\u001b[38;5;250m \u001b[39m\u001b[38;5;21m__call__\u001b[39m(\u001b[38;5;28mself\u001b[39m, x, \u001b[38;5;241m*\u001b[39margs):\n\u001b[1;32m     75\u001b[0m \u001b[38;5;250m    \u001b[39m\u001b[38;5;124;03m\"\"\" returns the function value \"\"\"\u001b[39;00m\n\u001b[0;32m---> 76\u001b[0m     \u001b[38;5;28;43mself\u001b[39;49m\u001b[38;5;241;43m.\u001b[39;49m\u001b[43m_compute_if_needed\u001b[49m\u001b[43m(\u001b[49m\u001b[43mx\u001b[49m\u001b[43m,\u001b[49m\u001b[43m \u001b[49m\u001b[38;5;241;43m*\u001b[39;49m\u001b[43margs\u001b[49m\u001b[43m)\u001b[49m\n\u001b[1;32m     77\u001b[0m     \u001b[38;5;28;01mreturn\u001b[39;00m \u001b[38;5;28mself\u001b[39m\u001b[38;5;241m.\u001b[39m_value\n",
      "File \u001b[0;32m/opt/anaconda3/envs/pKGFN/lib/python3.9/site-packages/scipy/optimize/_optimize.py:70\u001b[0m, in \u001b[0;36mMemoizeJac._compute_if_needed\u001b[0;34m(self, x, *args)\u001b[0m\n\u001b[1;32m     68\u001b[0m \u001b[38;5;28;01mif\u001b[39;00m \u001b[38;5;129;01mnot\u001b[39;00m np\u001b[38;5;241m.\u001b[39mall(x \u001b[38;5;241m==\u001b[39m \u001b[38;5;28mself\u001b[39m\u001b[38;5;241m.\u001b[39mx) \u001b[38;5;129;01mor\u001b[39;00m \u001b[38;5;28mself\u001b[39m\u001b[38;5;241m.\u001b[39m_value \u001b[38;5;129;01mis\u001b[39;00m \u001b[38;5;28;01mNone\u001b[39;00m \u001b[38;5;129;01mor\u001b[39;00m \u001b[38;5;28mself\u001b[39m\u001b[38;5;241m.\u001b[39mjac \u001b[38;5;129;01mis\u001b[39;00m \u001b[38;5;28;01mNone\u001b[39;00m:\n\u001b[1;32m     69\u001b[0m     \u001b[38;5;28mself\u001b[39m\u001b[38;5;241m.\u001b[39mx \u001b[38;5;241m=\u001b[39m np\u001b[38;5;241m.\u001b[39masarray(x)\u001b[38;5;241m.\u001b[39mcopy()\n\u001b[0;32m---> 70\u001b[0m     fg \u001b[38;5;241m=\u001b[39m \u001b[38;5;28;43mself\u001b[39;49m\u001b[38;5;241;43m.\u001b[39;49m\u001b[43mfun\u001b[49m\u001b[43m(\u001b[49m\u001b[43mx\u001b[49m\u001b[43m,\u001b[49m\u001b[43m \u001b[49m\u001b[38;5;241;43m*\u001b[39;49m\u001b[43margs\u001b[49m\u001b[43m)\u001b[49m\n\u001b[1;32m     71\u001b[0m     \u001b[38;5;28mself\u001b[39m\u001b[38;5;241m.\u001b[39mjac \u001b[38;5;241m=\u001b[39m fg[\u001b[38;5;241m1\u001b[39m]\n\u001b[1;32m     72\u001b[0m     \u001b[38;5;28mself\u001b[39m\u001b[38;5;241m.\u001b[39m_value \u001b[38;5;241m=\u001b[39m fg[\u001b[38;5;241m0\u001b[39m]\n",
      "File \u001b[0;32m/opt/anaconda3/envs/pKGFN/lib/python3.9/site-packages/botorch/generation/gen.py:190\u001b[0m, in \u001b[0;36mgen_candidates_scipy.<locals>.f_np_wrapper\u001b[0;34m(x, f)\u001b[0m\n\u001b[1;32m    182\u001b[0m X \u001b[38;5;241m=\u001b[39m (\n\u001b[1;32m    183\u001b[0m     torch\u001b[38;5;241m.\u001b[39mfrom_numpy(x)\n\u001b[1;32m    184\u001b[0m     \u001b[38;5;241m.\u001b[39mto(initial_conditions)\n\u001b[0;32m   (...)\u001b[0m\n\u001b[1;32m    187\u001b[0m     \u001b[38;5;241m.\u001b[39mrequires_grad_(\u001b[38;5;28;01mTrue\u001b[39;00m)\n\u001b[1;32m    188\u001b[0m )\n\u001b[1;32m    189\u001b[0m X_fix \u001b[38;5;241m=\u001b[39m fix_features(X, fixed_features\u001b[38;5;241m=\u001b[39mfixed_features)\n\u001b[0;32m--> 190\u001b[0m loss \u001b[38;5;241m=\u001b[39m \u001b[43mf\u001b[49m\u001b[43m(\u001b[49m\u001b[43mX_fix\u001b[49m\u001b[43m)\u001b[49m\u001b[38;5;241m.\u001b[39msum()\n\u001b[1;32m    191\u001b[0m \u001b[38;5;66;03m# compute gradient w.r.t. the inputs (does not accumulate in leaves)\u001b[39;00m\n\u001b[1;32m    192\u001b[0m gradf \u001b[38;5;241m=\u001b[39m _arrayify(torch\u001b[38;5;241m.\u001b[39mautograd\u001b[38;5;241m.\u001b[39mgrad(loss, X)[\u001b[38;5;241m0\u001b[39m]\u001b[38;5;241m.\u001b[39mcontiguous()\u001b[38;5;241m.\u001b[39mview(\u001b[38;5;241m-\u001b[39m\u001b[38;5;241m1\u001b[39m))\n",
      "File \u001b[0;32m/opt/anaconda3/envs/pKGFN/lib/python3.9/site-packages/botorch/generation/gen.py:230\u001b[0m, in \u001b[0;36mgen_candidates_scipy.<locals>.f\u001b[0;34m(x)\u001b[0m\n\u001b[1;32m    229\u001b[0m \u001b[38;5;28;01mdef\u001b[39;00m\u001b[38;5;250m \u001b[39m\u001b[38;5;21mf\u001b[39m(x):\n\u001b[0;32m--> 230\u001b[0m     \u001b[38;5;28;01mreturn\u001b[39;00m \u001b[38;5;241m-\u001b[39m\u001b[43macquisition_function\u001b[49m\u001b[43m(\u001b[49m\u001b[43mx\u001b[49m\u001b[43m)\u001b[49m\n",
      "File \u001b[0;32m/opt/anaconda3/envs/pKGFN/lib/python3.9/site-packages/torch/nn/modules/module.py:1739\u001b[0m, in \u001b[0;36mModule._wrapped_call_impl\u001b[0;34m(self, *args, **kwargs)\u001b[0m\n\u001b[1;32m   1737\u001b[0m     \u001b[38;5;28;01mreturn\u001b[39;00m \u001b[38;5;28mself\u001b[39m\u001b[38;5;241m.\u001b[39m_compiled_call_impl(\u001b[38;5;241m*\u001b[39margs, \u001b[38;5;241m*\u001b[39m\u001b[38;5;241m*\u001b[39mkwargs)  \u001b[38;5;66;03m# type: ignore[misc]\u001b[39;00m\n\u001b[1;32m   1738\u001b[0m \u001b[38;5;28;01melse\u001b[39;00m:\n\u001b[0;32m-> 1739\u001b[0m     \u001b[38;5;28;01mreturn\u001b[39;00m \u001b[38;5;28;43mself\u001b[39;49m\u001b[38;5;241;43m.\u001b[39;49m\u001b[43m_call_impl\u001b[49m\u001b[43m(\u001b[49m\u001b[38;5;241;43m*\u001b[39;49m\u001b[43margs\u001b[49m\u001b[43m,\u001b[49m\u001b[43m \u001b[49m\u001b[38;5;241;43m*\u001b[39;49m\u001b[38;5;241;43m*\u001b[39;49m\u001b[43mkwargs\u001b[49m\u001b[43m)\u001b[49m\n",
      "File \u001b[0;32m/opt/anaconda3/envs/pKGFN/lib/python3.9/site-packages/torch/nn/modules/module.py:1750\u001b[0m, in \u001b[0;36mModule._call_impl\u001b[0;34m(self, *args, **kwargs)\u001b[0m\n\u001b[1;32m   1745\u001b[0m \u001b[38;5;66;03m# If we don't have any hooks, we want to skip the rest of the logic in\u001b[39;00m\n\u001b[1;32m   1746\u001b[0m \u001b[38;5;66;03m# this function, and just call forward.\u001b[39;00m\n\u001b[1;32m   1747\u001b[0m \u001b[38;5;28;01mif\u001b[39;00m \u001b[38;5;129;01mnot\u001b[39;00m (\u001b[38;5;28mself\u001b[39m\u001b[38;5;241m.\u001b[39m_backward_hooks \u001b[38;5;129;01mor\u001b[39;00m \u001b[38;5;28mself\u001b[39m\u001b[38;5;241m.\u001b[39m_backward_pre_hooks \u001b[38;5;129;01mor\u001b[39;00m \u001b[38;5;28mself\u001b[39m\u001b[38;5;241m.\u001b[39m_forward_hooks \u001b[38;5;129;01mor\u001b[39;00m \u001b[38;5;28mself\u001b[39m\u001b[38;5;241m.\u001b[39m_forward_pre_hooks\n\u001b[1;32m   1748\u001b[0m         \u001b[38;5;129;01mor\u001b[39;00m _global_backward_pre_hooks \u001b[38;5;129;01mor\u001b[39;00m _global_backward_hooks\n\u001b[1;32m   1749\u001b[0m         \u001b[38;5;129;01mor\u001b[39;00m _global_forward_hooks \u001b[38;5;129;01mor\u001b[39;00m _global_forward_pre_hooks):\n\u001b[0;32m-> 1750\u001b[0m     \u001b[38;5;28;01mreturn\u001b[39;00m \u001b[43mforward_call\u001b[49m\u001b[43m(\u001b[49m\u001b[38;5;241;43m*\u001b[39;49m\u001b[43margs\u001b[49m\u001b[43m,\u001b[49m\u001b[43m \u001b[49m\u001b[38;5;241;43m*\u001b[39;49m\u001b[38;5;241;43m*\u001b[39;49m\u001b[43mkwargs\u001b[49m\u001b[43m)\u001b[49m\n\u001b[1;32m   1752\u001b[0m result \u001b[38;5;241m=\u001b[39m \u001b[38;5;28;01mNone\u001b[39;00m\n\u001b[1;32m   1753\u001b[0m called_always_called_hooks \u001b[38;5;241m=\u001b[39m \u001b[38;5;28mset\u001b[39m()\n",
      "File \u001b[0;32m/opt/anaconda3/envs/pKGFN/lib/python3.9/site-packages/botorch/utils/transforms.py:330\u001b[0m, in \u001b[0;36mconcatenate_pending_points.<locals>.decorated\u001b[0;34m(cls, X, **kwargs)\u001b[0m\n\u001b[1;32m    328\u001b[0m \u001b[38;5;28;01mif\u001b[39;00m \u001b[38;5;28mcls\u001b[39m\u001b[38;5;241m.\u001b[39mX_pending \u001b[38;5;129;01mis\u001b[39;00m \u001b[38;5;129;01mnot\u001b[39;00m \u001b[38;5;28;01mNone\u001b[39;00m:\n\u001b[1;32m    329\u001b[0m     X \u001b[38;5;241m=\u001b[39m torch\u001b[38;5;241m.\u001b[39mcat([X, match_batch_shape(\u001b[38;5;28mcls\u001b[39m\u001b[38;5;241m.\u001b[39mX_pending, X)], dim\u001b[38;5;241m=\u001b[39m\u001b[38;5;241m-\u001b[39m\u001b[38;5;241m2\u001b[39m)\n\u001b[0;32m--> 330\u001b[0m \u001b[38;5;28;01mreturn\u001b[39;00m \u001b[43mmethod\u001b[49m\u001b[43m(\u001b[49m\u001b[38;5;28;43mcls\u001b[39;49m\u001b[43m,\u001b[49m\u001b[43m \u001b[49m\u001b[43mX\u001b[49m\u001b[43m,\u001b[49m\u001b[43m \u001b[49m\u001b[38;5;241;43m*\u001b[39;49m\u001b[38;5;241;43m*\u001b[39;49m\u001b[43mkwargs\u001b[49m\u001b[43m)\u001b[49m\n",
      "File \u001b[0;32m/opt/anaconda3/envs/pKGFN/lib/python3.9/site-packages/botorch/utils/transforms.py:287\u001b[0m, in \u001b[0;36mt_batch_mode_transform.<locals>.decorator.<locals>.decorated\u001b[0;34m(acqf, X, *args, **kwargs)\u001b[0m\n\u001b[1;32m    285\u001b[0m \u001b[38;5;66;03m# add t-batch dim\u001b[39;00m\n\u001b[1;32m    286\u001b[0m X \u001b[38;5;241m=\u001b[39m X \u001b[38;5;28;01mif\u001b[39;00m X\u001b[38;5;241m.\u001b[39mdim() \u001b[38;5;241m>\u001b[39m \u001b[38;5;241m2\u001b[39m \u001b[38;5;28;01melse\u001b[39;00m X\u001b[38;5;241m.\u001b[39munsqueeze(\u001b[38;5;241m0\u001b[39m)\n\u001b[0;32m--> 287\u001b[0m output \u001b[38;5;241m=\u001b[39m \u001b[43mmethod\u001b[49m\u001b[43m(\u001b[49m\u001b[43macqf\u001b[49m\u001b[43m,\u001b[49m\u001b[43m \u001b[49m\u001b[43mX\u001b[49m\u001b[43m,\u001b[49m\u001b[43m \u001b[49m\u001b[38;5;241;43m*\u001b[39;49m\u001b[43margs\u001b[49m\u001b[43m,\u001b[49m\u001b[43m \u001b[49m\u001b[38;5;241;43m*\u001b[39;49m\u001b[38;5;241;43m*\u001b[39;49m\u001b[43mkwargs\u001b[49m\u001b[43m)\u001b[49m\n\u001b[1;32m    288\u001b[0m \u001b[38;5;28;01mif\u001b[39;00m \u001b[38;5;28mhasattr\u001b[39m(acqf, \u001b[38;5;124m\"\u001b[39m\u001b[38;5;124mmodel\u001b[39m\u001b[38;5;124m\"\u001b[39m) \u001b[38;5;129;01mand\u001b[39;00m is_fully_bayesian(acqf\u001b[38;5;241m.\u001b[39mmodel):\n\u001b[1;32m    289\u001b[0m     output \u001b[38;5;241m=\u001b[39m output\u001b[38;5;241m.\u001b[39mmean(dim\u001b[38;5;241m=\u001b[39m\u001b[38;5;241m-\u001b[39m\u001b[38;5;241m1\u001b[39m)\n",
      "File \u001b[0;32m/opt/anaconda3/envs/pKGFN/lib/python3.9/site-packages/botorch/acquisition/monte_carlo.py:181\u001b[0m, in \u001b[0;36mqExpectedImprovement.forward\u001b[0;34m(self, X)\u001b[0m\n\u001b[1;32m    167\u001b[0m \u001b[38;5;250m\u001b[39m\u001b[38;5;124mr\u001b[39m\u001b[38;5;124;03m\"\"\"Evaluate qExpectedImprovement on the candidate set `X`.\u001b[39;00m\n\u001b[1;32m    168\u001b[0m \n\u001b[1;32m    169\u001b[0m \u001b[38;5;124;03mArgs:\u001b[39;00m\n\u001b[0;32m   (...)\u001b[0m\n\u001b[1;32m    176\u001b[0m \u001b[38;5;124;03m    model and input `X`.\u001b[39;00m\n\u001b[1;32m    177\u001b[0m \u001b[38;5;124;03m\"\"\"\u001b[39;00m\n\u001b[1;32m    178\u001b[0m posterior \u001b[38;5;241m=\u001b[39m \u001b[38;5;28mself\u001b[39m\u001b[38;5;241m.\u001b[39mmodel\u001b[38;5;241m.\u001b[39mposterior(\n\u001b[1;32m    179\u001b[0m     X\u001b[38;5;241m=\u001b[39mX, posterior_transform\u001b[38;5;241m=\u001b[39m\u001b[38;5;28mself\u001b[39m\u001b[38;5;241m.\u001b[39mposterior_transform\n\u001b[1;32m    180\u001b[0m )\n\u001b[0;32m--> 181\u001b[0m samples \u001b[38;5;241m=\u001b[39m \u001b[38;5;28;43mself\u001b[39;49m\u001b[38;5;241;43m.\u001b[39;49m\u001b[43mget_posterior_samples\u001b[49m\u001b[43m(\u001b[49m\u001b[43mposterior\u001b[49m\u001b[43m)\u001b[49m\n\u001b[1;32m    182\u001b[0m obj \u001b[38;5;241m=\u001b[39m \u001b[38;5;28mself\u001b[39m\u001b[38;5;241m.\u001b[39mobjective(samples, X\u001b[38;5;241m=\u001b[39mX)\n\u001b[1;32m    183\u001b[0m obj \u001b[38;5;241m=\u001b[39m (obj \u001b[38;5;241m-\u001b[39m \u001b[38;5;28mself\u001b[39m\u001b[38;5;241m.\u001b[39mbest_f\u001b[38;5;241m.\u001b[39munsqueeze(\u001b[38;5;241m-\u001b[39m\u001b[38;5;241m1\u001b[39m)\u001b[38;5;241m.\u001b[39mto(obj))\u001b[38;5;241m.\u001b[39mclamp_min(\u001b[38;5;241m0\u001b[39m)\n",
      "File \u001b[0;32m/opt/anaconda3/envs/pKGFN/lib/python3.9/site-packages/botorch/acquisition/acquisition.py:170\u001b[0m, in \u001b[0;36mMCSamplerMixin.get_posterior_samples\u001b[0;34m(self, posterior)\u001b[0m\n\u001b[1;32m    166\u001b[0m \u001b[38;5;28;01mif\u001b[39;00m \u001b[38;5;28mself\u001b[39m\u001b[38;5;241m.\u001b[39msampler \u001b[38;5;129;01mis\u001b[39;00m \u001b[38;5;28;01mNone\u001b[39;00m:\n\u001b[1;32m    167\u001b[0m     \u001b[38;5;28mself\u001b[39m\u001b[38;5;241m.\u001b[39msampler \u001b[38;5;241m=\u001b[39m get_sampler(\n\u001b[1;32m    168\u001b[0m         posterior\u001b[38;5;241m=\u001b[39mposterior, sample_shape\u001b[38;5;241m=\u001b[39m\u001b[38;5;28mself\u001b[39m\u001b[38;5;241m.\u001b[39m_default_sample_shape\n\u001b[1;32m    169\u001b[0m     )\n\u001b[0;32m--> 170\u001b[0m \u001b[38;5;28;01mreturn\u001b[39;00m \u001b[38;5;28;43mself\u001b[39;49m\u001b[38;5;241;43m.\u001b[39;49m\u001b[43msampler\u001b[49m\u001b[43m(\u001b[49m\u001b[43mposterior\u001b[49m\u001b[38;5;241;43m=\u001b[39;49m\u001b[43mposterior\u001b[49m\u001b[43m)\u001b[49m\n",
      "File \u001b[0;32m/opt/anaconda3/envs/pKGFN/lib/python3.9/site-packages/torch/nn/modules/module.py:1739\u001b[0m, in \u001b[0;36mModule._wrapped_call_impl\u001b[0;34m(self, *args, **kwargs)\u001b[0m\n\u001b[1;32m   1737\u001b[0m     \u001b[38;5;28;01mreturn\u001b[39;00m \u001b[38;5;28mself\u001b[39m\u001b[38;5;241m.\u001b[39m_compiled_call_impl(\u001b[38;5;241m*\u001b[39margs, \u001b[38;5;241m*\u001b[39m\u001b[38;5;241m*\u001b[39mkwargs)  \u001b[38;5;66;03m# type: ignore[misc]\u001b[39;00m\n\u001b[1;32m   1738\u001b[0m \u001b[38;5;28;01melse\u001b[39;00m:\n\u001b[0;32m-> 1739\u001b[0m     \u001b[38;5;28;01mreturn\u001b[39;00m \u001b[38;5;28;43mself\u001b[39;49m\u001b[38;5;241;43m.\u001b[39;49m\u001b[43m_call_impl\u001b[49m\u001b[43m(\u001b[49m\u001b[38;5;241;43m*\u001b[39;49m\u001b[43margs\u001b[49m\u001b[43m,\u001b[49m\u001b[43m \u001b[49m\u001b[38;5;241;43m*\u001b[39;49m\u001b[38;5;241;43m*\u001b[39;49m\u001b[43mkwargs\u001b[49m\u001b[43m)\u001b[49m\n",
      "File \u001b[0;32m/opt/anaconda3/envs/pKGFN/lib/python3.9/site-packages/torch/nn/modules/module.py:1750\u001b[0m, in \u001b[0;36mModule._call_impl\u001b[0;34m(self, *args, **kwargs)\u001b[0m\n\u001b[1;32m   1745\u001b[0m \u001b[38;5;66;03m# If we don't have any hooks, we want to skip the rest of the logic in\u001b[39;00m\n\u001b[1;32m   1746\u001b[0m \u001b[38;5;66;03m# this function, and just call forward.\u001b[39;00m\n\u001b[1;32m   1747\u001b[0m \u001b[38;5;28;01mif\u001b[39;00m \u001b[38;5;129;01mnot\u001b[39;00m (\u001b[38;5;28mself\u001b[39m\u001b[38;5;241m.\u001b[39m_backward_hooks \u001b[38;5;129;01mor\u001b[39;00m \u001b[38;5;28mself\u001b[39m\u001b[38;5;241m.\u001b[39m_backward_pre_hooks \u001b[38;5;129;01mor\u001b[39;00m \u001b[38;5;28mself\u001b[39m\u001b[38;5;241m.\u001b[39m_forward_hooks \u001b[38;5;129;01mor\u001b[39;00m \u001b[38;5;28mself\u001b[39m\u001b[38;5;241m.\u001b[39m_forward_pre_hooks\n\u001b[1;32m   1748\u001b[0m         \u001b[38;5;129;01mor\u001b[39;00m _global_backward_pre_hooks \u001b[38;5;129;01mor\u001b[39;00m _global_backward_hooks\n\u001b[1;32m   1749\u001b[0m         \u001b[38;5;129;01mor\u001b[39;00m _global_forward_hooks \u001b[38;5;129;01mor\u001b[39;00m _global_forward_pre_hooks):\n\u001b[0;32m-> 1750\u001b[0m     \u001b[38;5;28;01mreturn\u001b[39;00m \u001b[43mforward_call\u001b[49m\u001b[43m(\u001b[49m\u001b[38;5;241;43m*\u001b[39;49m\u001b[43margs\u001b[49m\u001b[43m,\u001b[49m\u001b[43m \u001b[49m\u001b[38;5;241;43m*\u001b[39;49m\u001b[38;5;241;43m*\u001b[39;49m\u001b[43mkwargs\u001b[49m\u001b[43m)\u001b[49m\n\u001b[1;32m   1752\u001b[0m result \u001b[38;5;241m=\u001b[39m \u001b[38;5;28;01mNone\u001b[39;00m\n\u001b[1;32m   1753\u001b[0m called_always_called_hooks \u001b[38;5;241m=\u001b[39m \u001b[38;5;28mset\u001b[39m()\n",
      "File \u001b[0;32m/opt/anaconda3/envs/pKGFN/lib/python3.9/site-packages/botorch/sampling/normal.py:44\u001b[0m, in \u001b[0;36mNormalMCSampler.forward\u001b[0;34m(self, posterior)\u001b[0m\n\u001b[1;32m     35\u001b[0m \u001b[38;5;250m\u001b[39m\u001b[38;5;124mr\u001b[39m\u001b[38;5;124;03m\"\"\"Draws MC samples from the posterior.\u001b[39;00m\n\u001b[1;32m     36\u001b[0m \n\u001b[1;32m     37\u001b[0m \u001b[38;5;124;03mArgs:\u001b[39;00m\n\u001b[0;32m   (...)\u001b[0m\n\u001b[1;32m     41\u001b[0m \u001b[38;5;124;03m    The samples drawn from the posterior.\u001b[39;00m\n\u001b[1;32m     42\u001b[0m \u001b[38;5;124;03m\"\"\"\u001b[39;00m\n\u001b[1;32m     43\u001b[0m \u001b[38;5;28mself\u001b[39m\u001b[38;5;241m.\u001b[39m_construct_base_samples(posterior\u001b[38;5;241m=\u001b[39mposterior)\n\u001b[0;32m---> 44\u001b[0m samples \u001b[38;5;241m=\u001b[39m \u001b[43mposterior\u001b[49m\u001b[38;5;241;43m.\u001b[39;49m\u001b[43mrsample_from_base_samples\u001b[49m\u001b[43m(\u001b[49m\n\u001b[1;32m     45\u001b[0m \u001b[43m    \u001b[49m\u001b[43msample_shape\u001b[49m\u001b[38;5;241;43m=\u001b[39;49m\u001b[38;5;28;43mself\u001b[39;49m\u001b[38;5;241;43m.\u001b[39;49m\u001b[43msample_shape\u001b[49m\u001b[43m,\u001b[49m\n\u001b[1;32m     46\u001b[0m \u001b[43m    \u001b[49m\u001b[43mbase_samples\u001b[49m\u001b[38;5;241;43m=\u001b[39;49m\u001b[38;5;28;43mself\u001b[39;49m\u001b[38;5;241;43m.\u001b[39;49m\u001b[43mbase_samples\u001b[49m\u001b[38;5;241;43m.\u001b[39;49m\u001b[43mexpand\u001b[49m\u001b[43m(\u001b[49m\n\u001b[1;32m     47\u001b[0m \u001b[43m        \u001b[49m\u001b[38;5;28;43mself\u001b[39;49m\u001b[38;5;241;43m.\u001b[39;49m\u001b[43m_get_extended_base_sample_shape\u001b[49m\u001b[43m(\u001b[49m\u001b[43mposterior\u001b[49m\u001b[38;5;241;43m=\u001b[39;49m\u001b[43mposterior\u001b[49m\u001b[43m)\u001b[49m\n\u001b[1;32m     48\u001b[0m \u001b[43m    \u001b[49m\u001b[43m)\u001b[49m\u001b[43m,\u001b[49m\n\u001b[1;32m     49\u001b[0m \u001b[43m\u001b[49m\u001b[43m)\u001b[49m\n\u001b[1;32m     50\u001b[0m \u001b[38;5;28;01mreturn\u001b[39;00m samples\n",
      "File \u001b[0;32m~/Desktop/partial_kgfn/partial_kgfn/models/decoupled_gp_network.py:398\u001b[0m, in \u001b[0;36mMultivariateNormalNetwork.rsample_from_base_samples\u001b[0;34m(self, sample_shape, base_samples)\u001b[0m\n\u001b[1;32m    396\u001b[0m \u001b[38;5;28;01melse\u001b[39;00m:\n\u001b[1;32m    397\u001b[0m     X_node_k \u001b[38;5;241m=\u001b[39m \u001b[38;5;28mself\u001b[39m\u001b[38;5;241m.\u001b[39mX  \u001b[38;5;66;03m# batch_shape x q x d\u001b[39;00m\n\u001b[0;32m--> 398\u001b[0m multivariate_normal_at_node_k \u001b[38;5;241m=\u001b[39m \u001b[38;5;28;43mself\u001b[39;49m\u001b[38;5;241;43m.\u001b[39;49m\u001b[43mnode_GPs\u001b[49m\u001b[43m[\u001b[49m\u001b[43mk\u001b[49m\u001b[43m]\u001b[49m\u001b[38;5;241;43m.\u001b[39;49m\u001b[43mposterior\u001b[49m\u001b[43m(\u001b[49m\u001b[43mX_node_k\u001b[49m\u001b[43m)\u001b[49m\n\u001b[1;32m    399\u001b[0m \u001b[38;5;66;03m# two cases:\u001b[39;00m\n\u001b[1;32m    400\u001b[0m \u001b[38;5;66;03m# case 1: node_GP has no fantasy dimension (i.e., input is q x d), then X_node_k is shape nf x q x d, posterior is nf x q x 1\u001b[39;00m\n\u001b[1;32m    401\u001b[0m \u001b[38;5;66;03m# case 2: node_GP has fantasy dimension (i.e., input is n_f x q x d), then X_node_k is shape nf x q x d, posterior is nf x q x 1\u001b[39;00m\n\u001b[1;32m    402\u001b[0m nodes_samples[\u001b[38;5;241m.\u001b[39m\u001b[38;5;241m.\u001b[39m\u001b[38;5;241m.\u001b[39m, k] \u001b[38;5;241m=\u001b[39m multivariate_normal_at_node_k\u001b[38;5;241m.\u001b[39mrsample(\n\u001b[1;32m    403\u001b[0m     sample_shape, base_samples[\u001b[38;5;241m.\u001b[39m\u001b[38;5;241m.\u001b[39m\u001b[38;5;241m.\u001b[39m, [k]]  \u001b[38;5;66;03m# sample_shape x n_f x q x 1\u001b[39;00m\n\u001b[1;32m    404\u001b[0m )[\u001b[38;5;241m.\u001b[39m\u001b[38;5;241m.\u001b[39m\u001b[38;5;241m.\u001b[39m, \u001b[38;5;241m0\u001b[39m]\n",
      "File \u001b[0;32m/opt/anaconda3/envs/pKGFN/lib/python3.9/site-packages/botorch/models/gpytorch.py:379\u001b[0m, in \u001b[0;36mBatchedMultiOutputGPyTorchModel.posterior\u001b[0;34m(self, X, output_indices, observation_noise, posterior_transform, **kwargs)\u001b[0m\n\u001b[1;32m    375\u001b[0m \u001b[38;5;28;01mif\u001b[39;00m \u001b[38;5;28mself\u001b[39m\u001b[38;5;241m.\u001b[39m_num_outputs \u001b[38;5;241m>\u001b[39m \u001b[38;5;241m1\u001b[39m:\n\u001b[1;32m    376\u001b[0m     X, output_dim_idx \u001b[38;5;241m=\u001b[39m add_output_dim(\n\u001b[1;32m    377\u001b[0m         X\u001b[38;5;241m=\u001b[39mX, original_batch_shape\u001b[38;5;241m=\u001b[39m\u001b[38;5;28mself\u001b[39m\u001b[38;5;241m.\u001b[39m_input_batch_shape\n\u001b[1;32m    378\u001b[0m     )\n\u001b[0;32m--> 379\u001b[0m mvn \u001b[38;5;241m=\u001b[39m \u001b[38;5;28;43mself\u001b[39;49m\u001b[43m(\u001b[49m\u001b[43mX\u001b[49m\u001b[43m)\u001b[49m\n\u001b[1;32m    380\u001b[0m \u001b[38;5;28;01mif\u001b[39;00m observation_noise \u001b[38;5;129;01mis\u001b[39;00m \u001b[38;5;129;01mnot\u001b[39;00m \u001b[38;5;28;01mFalse\u001b[39;00m:\n\u001b[1;32m    381\u001b[0m     \u001b[38;5;28;01mif\u001b[39;00m torch\u001b[38;5;241m.\u001b[39mis_tensor(observation_noise):\n\u001b[1;32m    382\u001b[0m         \u001b[38;5;66;03m# TODO: Validate noise shape\u001b[39;00m\n\u001b[1;32m    383\u001b[0m         \u001b[38;5;66;03m# make observation_noise `batch_shape x q x n`\u001b[39;00m\n",
      "File \u001b[0;32m/opt/anaconda3/envs/pKGFN/lib/python3.9/site-packages/gpytorch/models/exact_gp.py:332\u001b[0m, in \u001b[0;36mExactGP.__call__\u001b[0;34m(self, *args, **kwargs)\u001b[0m\n\u001b[1;32m    327\u001b[0m \u001b[38;5;66;03m# Make the prediction\u001b[39;00m\n\u001b[1;32m    328\u001b[0m \u001b[38;5;28;01mwith\u001b[39;00m settings\u001b[38;5;241m.\u001b[39mcg_tolerance(settings\u001b[38;5;241m.\u001b[39meval_cg_tolerance\u001b[38;5;241m.\u001b[39mvalue()):\n\u001b[1;32m    329\u001b[0m     (\n\u001b[1;32m    330\u001b[0m         predictive_mean,\n\u001b[1;32m    331\u001b[0m         predictive_covar,\n\u001b[0;32m--> 332\u001b[0m     ) \u001b[38;5;241m=\u001b[39m \u001b[38;5;28;43mself\u001b[39;49m\u001b[38;5;241;43m.\u001b[39;49m\u001b[43mprediction_strategy\u001b[49m\u001b[38;5;241;43m.\u001b[39;49m\u001b[43mexact_prediction\u001b[49m\u001b[43m(\u001b[49m\u001b[43mfull_mean\u001b[49m\u001b[43m,\u001b[49m\u001b[43m \u001b[49m\u001b[43mfull_covar\u001b[49m\u001b[43m)\u001b[49m\n\u001b[1;32m    334\u001b[0m \u001b[38;5;66;03m# Reshape predictive mean to match the appropriate event shape\u001b[39;00m\n\u001b[1;32m    335\u001b[0m predictive_mean \u001b[38;5;241m=\u001b[39m predictive_mean\u001b[38;5;241m.\u001b[39mview(\u001b[38;5;241m*\u001b[39mbatch_shape, \u001b[38;5;241m*\u001b[39mtest_shape)\u001b[38;5;241m.\u001b[39mcontiguous()\n",
      "File \u001b[0;32m/opt/anaconda3/envs/pKGFN/lib/python3.9/site-packages/gpytorch/models/exact_prediction_strategies.py:265\u001b[0m, in \u001b[0;36mDefaultPredictionStrategy.exact_prediction\u001b[0;34m(self, joint_mean, joint_covar)\u001b[0m\n\u001b[1;32m    263\u001b[0m \u001b[38;5;28;01mif\u001b[39;00m joint_covar\u001b[38;5;241m.\u001b[39msize(\u001b[38;5;241m-\u001b[39m\u001b[38;5;241m1\u001b[39m) \u001b[38;5;241m<\u001b[39m\u001b[38;5;241m=\u001b[39m settings\u001b[38;5;241m.\u001b[39mmax_eager_kernel_size\u001b[38;5;241m.\u001b[39mvalue():\n\u001b[1;32m    264\u001b[0m     test_covar \u001b[38;5;241m=\u001b[39m joint_covar[\u001b[38;5;241m.\u001b[39m\u001b[38;5;241m.\u001b[39m\u001b[38;5;241m.\u001b[39m, \u001b[38;5;28mself\u001b[39m\u001b[38;5;241m.\u001b[39mnum_train :, :]\u001b[38;5;241m.\u001b[39mto_dense()\n\u001b[0;32m--> 265\u001b[0m     test_test_covar \u001b[38;5;241m=\u001b[39m \u001b[43mtest_covar\u001b[49m\u001b[43m[\u001b[49m\u001b[38;5;241;43m.\u001b[39;49m\u001b[38;5;241;43m.\u001b[39;49m\u001b[38;5;241;43m.\u001b[39;49m\u001b[43m,\u001b[49m\u001b[43m \u001b[49m\u001b[38;5;28;43mself\u001b[39;49m\u001b[38;5;241;43m.\u001b[39;49m\u001b[43mnum_train\u001b[49m\u001b[43m \u001b[49m\u001b[43m:\u001b[49m\u001b[43m]\u001b[49m\n\u001b[1;32m    266\u001b[0m     test_train_covar \u001b[38;5;241m=\u001b[39m test_covar[\u001b[38;5;241m.\u001b[39m\u001b[38;5;241m.\u001b[39m\u001b[38;5;241m.\u001b[39m, : \u001b[38;5;28mself\u001b[39m\u001b[38;5;241m.\u001b[39mnum_train]\n\u001b[1;32m    267\u001b[0m \u001b[38;5;28;01melse\u001b[39;00m:\n",
      "\u001b[0;31mKeyboardInterrupt\u001b[0m: "
     ]
    }
   ],
   "source": [
    "freesolv3_runner_(\n",
    "    trial=10,\n",
    "    algo='fast_pKGFN',  # options: \"EI\", \"KG\", \"Random\", \"EIFN\", \"KGFN\", \"TSFN\", \"pKGFN\", \"fast_pKGFN\"\n",
    "    costs='1_49',\n",
    "    budget=150,\n",
    "    impose_assump=False, #true or false\n",
    ")"
   ]
  }
 ],
 "metadata": {
  "kernelspec": {
   "display_name": "pKGFN",
   "language": "python",
   "name": "python3"
  },
  "language_info": {
   "codemirror_mode": {
    "name": "ipython",
    "version": 3
   },
   "file_extension": ".py",
   "mimetype": "text/x-python",
   "name": "python",
   "nbconvert_exporter": "python",
   "pygments_lexer": "ipython3",
   "version": "3.9.21"
  }
 },
 "nbformat": 4,
 "nbformat_minor": 2
}
