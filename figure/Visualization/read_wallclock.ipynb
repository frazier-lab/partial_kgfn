{
 "cells": [
  {
   "cell_type": "markdown",
   "metadata": {},
   "source": [
    "# Code to print out runtimes [Table 1]"
   ]
  },
  {
   "cell_type": "code",
   "execution_count": 1,
   "metadata": {},
   "outputs": [],
   "source": [
    "import torch\n",
    "import numpy as np"
   ]
  },
  {
   "cell_type": "code",
   "execution_count": null,
   "metadata": {},
   "outputs": [
    {
     "name": "stdout",
     "output_type": "stream",
     "text": [
      "Runtime on 8-core CPUs on problem: AckMat with Cost scenario: 1_1\n",
      "Algo: pKGFN\n",
      "mean: 11.24 ± 0.45 mins\n",
      "Algo: EIFN\n",
      "mean: 2.81 ± 0.32 mins\n",
      "Algo: fast_pKGFN\n",
      "mean: 0.98 ± 0.09 mins\n",
      "=============================================================================================\n",
      "Runtime on 8-core CPUs on problem: AckMat with Cost scenario: 1_9\n",
      "Algo: pKGFN\n",
      "mean: 11.75 ± 0.54 mins\n",
      "Algo: EIFN\n",
      "mean: 0.78 ± 0.08 mins\n",
      "Algo: fast_pKGFN\n",
      "mean: 2.77 ± 0.29 mins\n",
      "=============================================================================================\n",
      "Runtime on 8-core CPUs on problem: AckMat with Cost scenario: 1_49\n",
      "Algo: pKGFN\n",
      "mean: 8.52 ± 0.28 mins\n",
      "Algo: EIFN\n",
      "mean: 0.69 ± 0.04 mins\n",
      "Algo: fast_pKGFN\n",
      "mean: 1.69 ± 0.15 mins\n",
      "=============================================================================================\n",
      "Runtime on 8-core CPUs on problem: freesolv with Cost scenario: 1_1\n",
      "Algo: pKGFN\n",
      "mean: 5.45 ± 0.38 mins\n",
      "Algo: EIFN\n",
      "mean: 0.53 ± 0.03 mins\n",
      "Algo: fast_pKGFN\n",
      "mean: 0.34 ± 0.02 mins\n",
      "=============================================================================================\n",
      "Runtime on 8-core CPUs on problem: freesolv with Cost scenario: 1_9\n",
      "Algo: pKGFN\n",
      "mean: 3.98 ± 0.14 mins\n",
      "Algo: EIFN\n",
      "mean: 1.70 ± 0.19 mins\n",
      "Algo: fast_pKGFN\n",
      "mean: 0.42 ± 0.02 mins\n",
      "=============================================================================================\n",
      "Runtime on 8-core CPUs on problem: freesolv with Cost scenario: 1_49\n",
      "Algo: pKGFN\n",
      "mean: 3.80 ± 0.17 mins\n",
      "Algo: EIFN\n",
      "mean: 1.00 ± 0.09 mins\n",
      "Algo: fast_pKGFN\n",
      "mean: 0.29 ± 0.02 mins\n",
      "=============================================================================================\n",
      "Runtime on 8-core CPUs on problem: Manu with Cost scenario: 5_10_10_45\n",
      "Algo: pKGFN\n",
      "mean: 7.80 ± 0.43 mins\n",
      "Algo: EIFN\n",
      "mean: 0.52 ± 0.07 mins\n",
      "Algo: fast_pKGFN\n",
      "mean: 1.40 ± 0.10 mins\n",
      "=============================================================================================\n"
     ]
    }
   ],
   "source": [
    "algo_list = ['pKGFN','EIFN','fast_pKGFN']\n",
    "cost_problem ={'AckMat': ['1_1','1_9','1_49'],'freesolv':['1_1','1_9','1_49'],'Manu':['5_10_10_45']}\n",
    "for problem in ['AckMat','freesolv','Manu']:\n",
    "    for cost in cost_problem[problem]:\n",
    "        print(f'Runtime on 8-core CPUs on problem: {problem} with Cost scenario: {cost}')\n",
    "        for algo in algo_list:\n",
    "            runtime=[]\n",
    "            for i in range(1,31):\n",
    "                res = torch.load(f\"../results/{problem}_{cost}/{algo}/trial_{i}.pt\",weights_only=False)\n",
    "                runtime.extend([res['runtimes'][i]/60 for i in range(1,len(res['runtimes'][1:]))])\n",
    "            print(f\"Algo: {algo}\")\n",
    "            print(f\"mean: {np.mean(runtime):.2f} ± {2*np.std(runtime)/np.sqrt(len(runtime)):.2f} mins\")\n",
    "        print('=============================================================================================')"
   ]
  }
 ],
 "metadata": {
  "kernelspec": {
   "display_name": "fast_pKGFN",
   "language": "python",
   "name": "python3"
  },
  "language_info": {
   "codemirror_mode": {
    "name": "ipython",
    "version": 3
   },
   "file_extension": ".py",
   "mimetype": "text/x-python",
   "name": "python",
   "nbconvert_exporter": "python",
   "pygments_lexer": "ipython3",
   "version": "3.9.21"
  }
 },
 "nbformat": 4,
 "nbformat_minor": 2
}
